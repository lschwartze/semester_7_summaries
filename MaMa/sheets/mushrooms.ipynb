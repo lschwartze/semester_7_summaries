{
  "cells": [
    {
      "cell_type": "markdown",
      "id": "d0f5a899-76d0-4b4f-a9d0-307e19162bad",
      "metadata": {
        "id": "d0f5a899-76d0-4b4f-a9d0-307e19162bad"
      },
      "source": [
        "**<div align=\"center\"><span style=\"font-size:4em\">Exercise</span></div>**\n",
        "\n",
        "# Mushrooms\n",
        "\n",
        "In this notebook you're expected to practice setting up and training a simple neural network with tensorflow. If you're running this in Colab then you will not need to install any packages. If you run this on your own compute, you may need to install tensorflow, scikit-learn, numpy or matplotlib.\n",
        "\n",
        "First we do the necessary imports."
      ]
    },
    {
      "cell_type": "code",
      "execution_count": 148,
      "id": "da57e18b-c6c3-4842-b8fc-7ecfefd53be4",
      "metadata": {
        "id": "da57e18b-c6c3-4842-b8fc-7ecfefd53be4"
      },
      "outputs": [
        {
          "name": "stdout",
          "output_type": "stream",
          "text": [
            "Tensorflow version: 2.15.0\n"
          ]
        }
      ],
      "source": [
        "import tensorflow as tf\n",
        "import matplotlib.pyplot as plt\n",
        "import numpy as np\n",
        "plt.style.use(\"seaborn-v0_8\")\n",
        "print(\"Tensorflow version: \"+tf.version.VERSION)\n",
        "\n",
        "import sklearn.datasets\n",
        "import sklearn.preprocessing\n",
        "import sklearn.utils"
      ]
    },
    {
      "cell_type": "markdown",
      "id": "d2cd04e2-a9d5-421d-9ff1-a4ecfec9e0b9",
      "metadata": {
        "id": "d2cd04e2-a9d5-421d-9ff1-a4ecfec9e0b9"
      },
      "source": [
        "Next we download a simple dataset on mushrooms. The task will consist in predicting whether a given mushroom is edible or poisonous. The dataset itself is hosted on a repository for a number of datasets used in machine learning: [openml](https://www.openml.org/) To download the data, we use a convenient method of scikit-learn (and that is also the reason why we're import scikit-learn at all)."
      ]
    },
    {
      "cell_type": "code",
      "execution_count": 149,
      "id": "d1fec14c-f9bf-426f-90e0-3865bec0b637",
      "metadata": {
        "id": "d1fec14c-f9bf-426f-90e0-3865bec0b637"
      },
      "outputs": [
        {
          "name": "stderr",
          "output_type": "stream",
          "text": [
            "c:\\Users\\lauri\\AppData\\Local\\Programs\\Python\\Python39\\lib\\site-packages\\sklearn\\datasets\\_openml.py:311: UserWarning: Multiple active versions of the dataset matching the name mushroom exist. Versions may be fundamentally different, returning version 1.\n",
            "  warn(\n",
            "c:\\Users\\lauri\\AppData\\Local\\Programs\\Python\\Python39\\lib\\site-packages\\sklearn\\datasets\\_openml.py:1022: FutureWarning: The default value of `parser` will change from `'liac-arff'` to `'auto'` in 1.4. You can set `parser='auto'` to silence this warning. Therefore, an `ImportError` will be raised from 1.4 if the dataset is dense and pandas is not installed. Note that the pandas parser may return different data types. See the Notes Section in fetch_openml's API doc for details.\n",
            "  warn(\n"
          ]
        }
      ],
      "source": [
        "data,target=sklearn.datasets.fetch_openml('mushroom',return_X_y=True)"
      ]
    },
    {
      "cell_type": "markdown",
      "id": "0bbf44b4-8645-43cb-9134-6d8fc7923316",
      "metadata": {
        "id": "0bbf44b4-8645-43cb-9134-6d8fc7923316"
      },
      "source": [
        "Okay, a warning that in the future something will change. That shouldn't bother us. Let's look at the data."
      ]
    },
    {
      "cell_type": "code",
      "execution_count": 150,
      "id": "fa8389de-106c-4beb-bebe-a7f8bfa665c2",
      "metadata": {
        "id": "fa8389de-106c-4beb-bebe-a7f8bfa665c2"
      },
      "outputs": [
        {
          "data": {
            "text/html": [
              "<div>\n",
              "<style scoped>\n",
              "    .dataframe tbody tr th:only-of-type {\n",
              "        vertical-align: middle;\n",
              "    }\n",
              "\n",
              "    .dataframe tbody tr th {\n",
              "        vertical-align: top;\n",
              "    }\n",
              "\n",
              "    .dataframe thead th {\n",
              "        text-align: right;\n",
              "    }\n",
              "</style>\n",
              "<table border=\"1\" class=\"dataframe\">\n",
              "  <thead>\n",
              "    <tr style=\"text-align: right;\">\n",
              "      <th></th>\n",
              "      <th>cap-shape</th>\n",
              "      <th>cap-surface</th>\n",
              "      <th>cap-color</th>\n",
              "      <th>bruises%3F</th>\n",
              "      <th>odor</th>\n",
              "      <th>gill-attachment</th>\n",
              "      <th>gill-spacing</th>\n",
              "      <th>gill-size</th>\n",
              "      <th>gill-color</th>\n",
              "      <th>stalk-shape</th>\n",
              "      <th>...</th>\n",
              "      <th>stalk-surface-below-ring</th>\n",
              "      <th>stalk-color-above-ring</th>\n",
              "      <th>stalk-color-below-ring</th>\n",
              "      <th>veil-type</th>\n",
              "      <th>veil-color</th>\n",
              "      <th>ring-number</th>\n",
              "      <th>ring-type</th>\n",
              "      <th>spore-print-color</th>\n",
              "      <th>population</th>\n",
              "      <th>habitat</th>\n",
              "    </tr>\n",
              "  </thead>\n",
              "  <tbody>\n",
              "    <tr>\n",
              "      <th>0</th>\n",
              "      <td>x</td>\n",
              "      <td>s</td>\n",
              "      <td>n</td>\n",
              "      <td>t</td>\n",
              "      <td>p</td>\n",
              "      <td>f</td>\n",
              "      <td>c</td>\n",
              "      <td>n</td>\n",
              "      <td>k</td>\n",
              "      <td>e</td>\n",
              "      <td>...</td>\n",
              "      <td>s</td>\n",
              "      <td>w</td>\n",
              "      <td>w</td>\n",
              "      <td>p</td>\n",
              "      <td>w</td>\n",
              "      <td>o</td>\n",
              "      <td>p</td>\n",
              "      <td>k</td>\n",
              "      <td>s</td>\n",
              "      <td>u</td>\n",
              "    </tr>\n",
              "    <tr>\n",
              "      <th>1</th>\n",
              "      <td>x</td>\n",
              "      <td>s</td>\n",
              "      <td>y</td>\n",
              "      <td>t</td>\n",
              "      <td>a</td>\n",
              "      <td>f</td>\n",
              "      <td>c</td>\n",
              "      <td>b</td>\n",
              "      <td>k</td>\n",
              "      <td>e</td>\n",
              "      <td>...</td>\n",
              "      <td>s</td>\n",
              "      <td>w</td>\n",
              "      <td>w</td>\n",
              "      <td>p</td>\n",
              "      <td>w</td>\n",
              "      <td>o</td>\n",
              "      <td>p</td>\n",
              "      <td>n</td>\n",
              "      <td>n</td>\n",
              "      <td>g</td>\n",
              "    </tr>\n",
              "    <tr>\n",
              "      <th>2</th>\n",
              "      <td>b</td>\n",
              "      <td>s</td>\n",
              "      <td>w</td>\n",
              "      <td>t</td>\n",
              "      <td>l</td>\n",
              "      <td>f</td>\n",
              "      <td>c</td>\n",
              "      <td>b</td>\n",
              "      <td>n</td>\n",
              "      <td>e</td>\n",
              "      <td>...</td>\n",
              "      <td>s</td>\n",
              "      <td>w</td>\n",
              "      <td>w</td>\n",
              "      <td>p</td>\n",
              "      <td>w</td>\n",
              "      <td>o</td>\n",
              "      <td>p</td>\n",
              "      <td>n</td>\n",
              "      <td>n</td>\n",
              "      <td>m</td>\n",
              "    </tr>\n",
              "    <tr>\n",
              "      <th>3</th>\n",
              "      <td>x</td>\n",
              "      <td>y</td>\n",
              "      <td>w</td>\n",
              "      <td>t</td>\n",
              "      <td>p</td>\n",
              "      <td>f</td>\n",
              "      <td>c</td>\n",
              "      <td>n</td>\n",
              "      <td>n</td>\n",
              "      <td>e</td>\n",
              "      <td>...</td>\n",
              "      <td>s</td>\n",
              "      <td>w</td>\n",
              "      <td>w</td>\n",
              "      <td>p</td>\n",
              "      <td>w</td>\n",
              "      <td>o</td>\n",
              "      <td>p</td>\n",
              "      <td>k</td>\n",
              "      <td>s</td>\n",
              "      <td>u</td>\n",
              "    </tr>\n",
              "    <tr>\n",
              "      <th>4</th>\n",
              "      <td>x</td>\n",
              "      <td>s</td>\n",
              "      <td>g</td>\n",
              "      <td>f</td>\n",
              "      <td>n</td>\n",
              "      <td>f</td>\n",
              "      <td>w</td>\n",
              "      <td>b</td>\n",
              "      <td>k</td>\n",
              "      <td>t</td>\n",
              "      <td>...</td>\n",
              "      <td>s</td>\n",
              "      <td>w</td>\n",
              "      <td>w</td>\n",
              "      <td>p</td>\n",
              "      <td>w</td>\n",
              "      <td>o</td>\n",
              "      <td>e</td>\n",
              "      <td>n</td>\n",
              "      <td>a</td>\n",
              "      <td>g</td>\n",
              "    </tr>\n",
              "    <tr>\n",
              "      <th>...</th>\n",
              "      <td>...</td>\n",
              "      <td>...</td>\n",
              "      <td>...</td>\n",
              "      <td>...</td>\n",
              "      <td>...</td>\n",
              "      <td>...</td>\n",
              "      <td>...</td>\n",
              "      <td>...</td>\n",
              "      <td>...</td>\n",
              "      <td>...</td>\n",
              "      <td>...</td>\n",
              "      <td>...</td>\n",
              "      <td>...</td>\n",
              "      <td>...</td>\n",
              "      <td>...</td>\n",
              "      <td>...</td>\n",
              "      <td>...</td>\n",
              "      <td>...</td>\n",
              "      <td>...</td>\n",
              "      <td>...</td>\n",
              "      <td>...</td>\n",
              "    </tr>\n",
              "    <tr>\n",
              "      <th>8119</th>\n",
              "      <td>k</td>\n",
              "      <td>s</td>\n",
              "      <td>n</td>\n",
              "      <td>f</td>\n",
              "      <td>n</td>\n",
              "      <td>a</td>\n",
              "      <td>c</td>\n",
              "      <td>b</td>\n",
              "      <td>y</td>\n",
              "      <td>e</td>\n",
              "      <td>...</td>\n",
              "      <td>s</td>\n",
              "      <td>o</td>\n",
              "      <td>o</td>\n",
              "      <td>p</td>\n",
              "      <td>o</td>\n",
              "      <td>o</td>\n",
              "      <td>p</td>\n",
              "      <td>b</td>\n",
              "      <td>c</td>\n",
              "      <td>l</td>\n",
              "    </tr>\n",
              "    <tr>\n",
              "      <th>8120</th>\n",
              "      <td>x</td>\n",
              "      <td>s</td>\n",
              "      <td>n</td>\n",
              "      <td>f</td>\n",
              "      <td>n</td>\n",
              "      <td>a</td>\n",
              "      <td>c</td>\n",
              "      <td>b</td>\n",
              "      <td>y</td>\n",
              "      <td>e</td>\n",
              "      <td>...</td>\n",
              "      <td>s</td>\n",
              "      <td>o</td>\n",
              "      <td>o</td>\n",
              "      <td>p</td>\n",
              "      <td>n</td>\n",
              "      <td>o</td>\n",
              "      <td>p</td>\n",
              "      <td>b</td>\n",
              "      <td>v</td>\n",
              "      <td>l</td>\n",
              "    </tr>\n",
              "    <tr>\n",
              "      <th>8121</th>\n",
              "      <td>f</td>\n",
              "      <td>s</td>\n",
              "      <td>n</td>\n",
              "      <td>f</td>\n",
              "      <td>n</td>\n",
              "      <td>a</td>\n",
              "      <td>c</td>\n",
              "      <td>b</td>\n",
              "      <td>n</td>\n",
              "      <td>e</td>\n",
              "      <td>...</td>\n",
              "      <td>s</td>\n",
              "      <td>o</td>\n",
              "      <td>o</td>\n",
              "      <td>p</td>\n",
              "      <td>o</td>\n",
              "      <td>o</td>\n",
              "      <td>p</td>\n",
              "      <td>b</td>\n",
              "      <td>c</td>\n",
              "      <td>l</td>\n",
              "    </tr>\n",
              "    <tr>\n",
              "      <th>8122</th>\n",
              "      <td>k</td>\n",
              "      <td>y</td>\n",
              "      <td>n</td>\n",
              "      <td>f</td>\n",
              "      <td>y</td>\n",
              "      <td>f</td>\n",
              "      <td>c</td>\n",
              "      <td>n</td>\n",
              "      <td>b</td>\n",
              "      <td>t</td>\n",
              "      <td>...</td>\n",
              "      <td>k</td>\n",
              "      <td>w</td>\n",
              "      <td>w</td>\n",
              "      <td>p</td>\n",
              "      <td>w</td>\n",
              "      <td>o</td>\n",
              "      <td>e</td>\n",
              "      <td>w</td>\n",
              "      <td>v</td>\n",
              "      <td>l</td>\n",
              "    </tr>\n",
              "    <tr>\n",
              "      <th>8123</th>\n",
              "      <td>x</td>\n",
              "      <td>s</td>\n",
              "      <td>n</td>\n",
              "      <td>f</td>\n",
              "      <td>n</td>\n",
              "      <td>a</td>\n",
              "      <td>c</td>\n",
              "      <td>b</td>\n",
              "      <td>y</td>\n",
              "      <td>e</td>\n",
              "      <td>...</td>\n",
              "      <td>s</td>\n",
              "      <td>o</td>\n",
              "      <td>o</td>\n",
              "      <td>p</td>\n",
              "      <td>o</td>\n",
              "      <td>o</td>\n",
              "      <td>p</td>\n",
              "      <td>o</td>\n",
              "      <td>c</td>\n",
              "      <td>l</td>\n",
              "    </tr>\n",
              "  </tbody>\n",
              "</table>\n",
              "<p>8124 rows × 22 columns</p>\n",
              "</div>"
            ],
            "text/plain": [
              "     cap-shape cap-surface cap-color bruises%3F odor gill-attachment  \\\n",
              "0            x           s         n          t    p               f   \n",
              "1            x           s         y          t    a               f   \n",
              "2            b           s         w          t    l               f   \n",
              "3            x           y         w          t    p               f   \n",
              "4            x           s         g          f    n               f   \n",
              "...        ...         ...       ...        ...  ...             ...   \n",
              "8119         k           s         n          f    n               a   \n",
              "8120         x           s         n          f    n               a   \n",
              "8121         f           s         n          f    n               a   \n",
              "8122         k           y         n          f    y               f   \n",
              "8123         x           s         n          f    n               a   \n",
              "\n",
              "     gill-spacing gill-size gill-color stalk-shape  ...  \\\n",
              "0               c         n          k           e  ...   \n",
              "1               c         b          k           e  ...   \n",
              "2               c         b          n           e  ...   \n",
              "3               c         n          n           e  ...   \n",
              "4               w         b          k           t  ...   \n",
              "...           ...       ...        ...         ...  ...   \n",
              "8119            c         b          y           e  ...   \n",
              "8120            c         b          y           e  ...   \n",
              "8121            c         b          n           e  ...   \n",
              "8122            c         n          b           t  ...   \n",
              "8123            c         b          y           e  ...   \n",
              "\n",
              "     stalk-surface-below-ring stalk-color-above-ring stalk-color-below-ring  \\\n",
              "0                           s                      w                      w   \n",
              "1                           s                      w                      w   \n",
              "2                           s                      w                      w   \n",
              "3                           s                      w                      w   \n",
              "4                           s                      w                      w   \n",
              "...                       ...                    ...                    ...   \n",
              "8119                        s                      o                      o   \n",
              "8120                        s                      o                      o   \n",
              "8121                        s                      o                      o   \n",
              "8122                        k                      w                      w   \n",
              "8123                        s                      o                      o   \n",
              "\n",
              "     veil-type veil-color ring-number ring-type spore-print-color population  \\\n",
              "0            p          w           o         p                 k          s   \n",
              "1            p          w           o         p                 n          n   \n",
              "2            p          w           o         p                 n          n   \n",
              "3            p          w           o         p                 k          s   \n",
              "4            p          w           o         e                 n          a   \n",
              "...        ...        ...         ...       ...               ...        ...   \n",
              "8119         p          o           o         p                 b          c   \n",
              "8120         p          n           o         p                 b          v   \n",
              "8121         p          o           o         p                 b          c   \n",
              "8122         p          w           o         e                 w          v   \n",
              "8123         p          o           o         p                 o          c   \n",
              "\n",
              "     habitat  \n",
              "0          u  \n",
              "1          g  \n",
              "2          m  \n",
              "3          u  \n",
              "4          g  \n",
              "...      ...  \n",
              "8119       l  \n",
              "8120       l  \n",
              "8121       l  \n",
              "8122       l  \n",
              "8123       l  \n",
              "\n",
              "[8124 rows x 22 columns]"
            ]
          },
          "execution_count": 150,
          "metadata": {},
          "output_type": "execute_result"
        }
      ],
      "source": [
        "data"
      ]
    },
    {
      "cell_type": "markdown",
      "id": "57bea814-9a7c-4cdf-a964-5fd077de4d36",
      "metadata": {
        "id": "57bea814-9a7c-4cdf-a964-5fd077de4d36"
      },
      "source": [
        "Okay, apparently each mushroom is described by a number of characteristics that will be familiar to every mushroom lover. What matters for us: the features are not encoded numerically -- we'll need to change that. But first let's look at the target."
      ]
    },
    {
      "cell_type": "code",
      "execution_count": 151,
      "id": "c0331277-ea02-421e-ba51-57c83ebc895f",
      "metadata": {
        "id": "c0331277-ea02-421e-ba51-57c83ebc895f"
      },
      "outputs": [
        {
          "data": {
            "text/plain": [
              "0       p\n",
              "1       e\n",
              "2       e\n",
              "3       p\n",
              "4       e\n",
              "       ..\n",
              "8119    e\n",
              "8120    e\n",
              "8121    e\n",
              "8122    p\n",
              "8123    e\n",
              "Name: class, Length: 8124, dtype: category\n",
              "Categories (2, object): ['e', 'p']"
            ]
          },
          "execution_count": 151,
          "metadata": {},
          "output_type": "execute_result"
        }
      ],
      "source": [
        "target"
      ]
    },
    {
      "cell_type": "markdown",
      "id": "c9d5f5e1-664d-43e2-9975-42d18e26c546",
      "metadata": {
        "id": "c9d5f5e1-664d-43e2-9975-42d18e26c546"
      },
      "source": [
        "Aha, two values 'e' (as in *edible*) and 'p' (as in *rather not*). Also here: we'll need to change that to a numerical value. Let's start with the target. We simply put a '1' whenever the mushroom in question is poisonous. The code looks a bit more complicated because I want to the target to be encoded as a *float* vector, ie, with values 1.0 and 0.0. (If we don't specify that we'll get a vector of <code>True</code> and <code>False</code> values.)"
      ]
    },
    {
      "cell_type": "code",
      "execution_count": 152,
      "id": "f231594a-d58b-4e40-9dfb-303cc9c0ccb4",
      "metadata": {
        "id": "f231594a-d58b-4e40-9dfb-303cc9c0ccb4"
      },
      "outputs": [],
      "source": [
        "yy=np.array(target=='p',dtype='float')"
      ]
    },
    {
      "cell_type": "markdown",
      "id": "fcf886c7-3a2c-47fe-9883-6616d060ba55",
      "metadata": {
        "id": "fcf886c7-3a2c-47fe-9883-6616d060ba55"
      },
      "source": [
        "Next, let's transform the data. *scikit-learn* provides a convenient class to do that, the <code>OneHotEncoder</code>. *tensorflow* offers similar functionality but it's a little bit more complicated to use so we'll go with *scikit-learn*. Let's look at a small toy example to figure out how that works."
      ]
    },
    {
      "cell_type": "code",
      "execution_count": 153,
      "id": "a3ebfe3f-980e-4347-b087-a528bf528e6b",
      "metadata": {
        "id": "a3ebfe3f-980e-4347-b087-a528bf528e6b"
      },
      "outputs": [
        {
          "data": {
            "text/plain": [
              "array([[1., 0., 0., 1., 0.],\n",
              "       [0., 1., 0., 0., 1.],\n",
              "       [0., 0., 1., 1., 0.]])"
            ]
          },
          "execution_count": 153,
          "metadata": {},
          "output_type": "execute_result"
        }
      ],
      "source": [
        "sample_data=[['cat','light saber'],['dog','stick'],['rat','light saber']]\n",
        "\n",
        "one_hot_encoder=sklearn.preprocessing.OneHotEncoder(sparse_output=False)\n",
        "one_hot_encoder.fit_transform(sample_data)"
      ]
    },
    {
      "cell_type": "markdown",
      "id": "f09bdbe9-5c37-44ae-8db4-9178a9764391",
      "metadata": {
        "id": "f09bdbe9-5c37-44ae-8db4-9178a9764391"
      },
      "source": [
        "The first three entries in each row encode *cat*, *dog*, *rat*, the last two encode *light saber* and *stick*.\n",
        "\n",
        "Let's now apply that to the mushroom data."
      ]
    },
    {
      "cell_type": "code",
      "execution_count": 154,
      "id": "5dcc37b8-5de7-48f6-8dac-ee664cdd8368",
      "metadata": {
        "id": "5dcc37b8-5de7-48f6-8dac-ee664cdd8368"
      },
      "outputs": [],
      "source": [
        "one_hot_encoder=sklearn.preprocessing.OneHotEncoder(sparse_output=False)\n",
        "XX=one_hot_encoder.fit_transform(data)"
      ]
    },
    {
      "cell_type": "markdown",
      "id": "da8d53ed-7e70-491f-a36b-60cb4cdc64ac",
      "metadata": {
        "id": "da8d53ed-7e70-491f-a36b-60cb4cdc64ac"
      },
      "source": [
        "Let's check how the data has changed. Before we had (compare the table above) 8124 datapoints with 22 features."
      ]
    },
    {
      "cell_type": "code",
      "execution_count": 155,
      "id": "7d58c4f9-e2f3-4d65-a069-ce947902e22b",
      "metadata": {
        "id": "7d58c4f9-e2f3-4d65-a069-ce947902e22b"
      },
      "outputs": [
        {
          "data": {
            "text/plain": [
              "(8124, 117)"
            ]
          },
          "execution_count": 155,
          "metadata": {},
          "output_type": "execute_result"
        }
      ],
      "source": [
        "XX.shape"
      ]
    },
    {
      "cell_type": "markdown",
      "id": "160c18f9-3321-4e5d-9d41-3c1f83cec875",
      "metadata": {
        "id": "160c18f9-3321-4e5d-9d41-3c1f83cec875"
      },
      "source": [
        "We split the data into three sets: A training set, a test set and a validation set that we will use to estimate the final error during training."
      ]
    },
    {
      "cell_type": "code",
      "execution_count": 156,
      "id": "81b58194-b0ad-4268-bc41-f6c00c953a9e",
      "metadata": {
        "id": "81b58194-b0ad-4268-bc41-f6c00c953a9e"
      },
      "outputs": [
        {
          "data": {
            "text/plain": [
              "((6000, 117), (1000, 117), (1124, 117))"
            ]
          },
          "execution_count": 156,
          "metadata": {},
          "output_type": "execute_result"
        }
      ],
      "source": [
        "X,y=sklearn.utils.shuffle(XX,yy) # let's make sure the data is in random order\n",
        "train_size=6000\n",
        "val_size=1000\n",
        "X_train,X_val,X_test=X[:train_size],X[train_size:train_size+val_size],X[train_size+val_size:]\n",
        "y_train,y_val,y_test=y[:train_size],y[train_size:train_size+val_size],y[train_size+val_size:]\n",
        "X_train.shape,X_val.shape,X_test.shape"
      ]
    },
    {
      "cell_type": "code",
      "execution_count": 157,
      "metadata": {},
      "outputs": [
        {
          "name": "stdout",
          "output_type": "stream",
          "text": [
            "[0. 0. 0. 1. 0. 0. 0. 0. 0. 1. 0. 0. 1. 0. 0. 0. 0. 0. 0. 0. 1. 0. 0. 0.\n",
            " 1. 0. 0. 0. 0. 0. 0. 0. 1. 1. 0. 0. 1. 1. 0. 0. 0. 0. 0. 0. 0. 0. 0. 0.\n",
            " 0. 0. 1. 0. 0. 0. 0. 1. 0. 0. 1. 0. 0. 1. 0. 0. 0. 0. 0. 0. 0. 0. 0. 1.\n",
            " 0. 0. 0. 0. 0. 0. 0. 0. 1. 0. 1. 0. 0. 1. 0. 0. 1. 0. 1. 0. 0. 0. 0. 0.\n",
            " 0. 0. 0. 0. 0. 0. 1. 0. 0. 0. 0. 0. 1. 0. 0. 0. 0. 0. 1. 0. 0.]\n"
          ]
        }
      ],
      "source": [
        "print(X_train[1])"
      ]
    },
    {
      "cell_type": "markdown",
      "id": "626e546e-dedf-4c1d-b208-9be584bc52af",
      "metadata": {
        "id": "626e546e-dedf-4c1d-b208-9be584bc52af"
      },
      "source": [
        "Now it's your turn!\n",
        "\n",
        "Set up a neural network, train it and plot training loss and loss on the validation set. A good idea would be to consult the notebook [tfintro](https://colab.research.google.com/github/henningbruhn/math_of_ml_course/blob/main/neural_networks/tfintro.ipynb) for some pointers. For help on plotting, also look at [plt_intro](https://colab.research.google.com/github/henningbruhn/math_of_ml_course/blob/main/python_intro/plt_intro.ipynb).\n",
        "\n",
        "More concretely\n",
        "* Define a neural network with a single output neuron. Experiment with the size of the network. That is, see how many neurons and layers you actually need. Since we have only one output, the activation in the last layer should be <code>activation='sigmoid'</code>, which is nothing else than the logistic function.\n",
        "* Take <code>BinaryCrossentropy</code> as loss function. That is cross entropy adapted to binary classification, ie, when there is a single output and classes are encoded as 0 and 1.\n",
        "* Train the network for suitable number of rounds (<code>epochs</code>). When calling <code>fit</code> use also the parameter <code>validation_data=(X_val,y_val)</code> to record loss and accuracy on the validation set.\n",
        "* Collect the result of training in a variable <code>history</code> and plot training loss and validation loss in one plot, and training accuracy and validation accuracy in another (side by side, preferably).\n",
        "* Compute the accuracy on the test set."
      ]
    },
    {
      "cell_type": "markdown",
      "metadata": {},
      "source": [
        "## find a good number of neurons in each hidden layer"
      ]
    },
    {
      "cell_type": "code",
      "execution_count": 158,
      "metadata": {},
      "outputs": [
        {
          "name": "stdout",
          "output_type": "stream",
          "text": [
            "Epoch 1/10\n"
          ]
        },
        {
          "name": "stdout",
          "output_type": "stream",
          "text": [
            "188/188 [==============================] - 1s 3ms/step - loss: 0.5290 - accuracy: 0.7990 - val_loss: 0.4468 - val_accuracy: 0.8820\n",
            "Epoch 2/10\n",
            "188/188 [==============================] - 0s 2ms/step - loss: 0.3767 - accuracy: 0.9255 - val_loss: 0.3451 - val_accuracy: 0.9480\n",
            "Epoch 3/10\n",
            "188/188 [==============================] - 0s 2ms/step - loss: 0.2978 - accuracy: 0.9728 - val_loss: 0.2804 - val_accuracy: 0.9780\n",
            "Epoch 4/10\n",
            "188/188 [==============================] - 0s 2ms/step - loss: 0.2457 - accuracy: 0.9863 - val_loss: 0.2338 - val_accuracy: 0.9830\n",
            "Epoch 5/10\n",
            "188/188 [==============================] - 0s 2ms/step - loss: 0.2061 - accuracy: 0.9903 - val_loss: 0.1956 - val_accuracy: 0.9860\n",
            "Epoch 6/10\n",
            "188/188 [==============================] - 0s 2ms/step - loss: 0.1734 - accuracy: 0.9943 - val_loss: 0.1640 - val_accuracy: 0.9930\n",
            "Epoch 7/10\n",
            "188/188 [==============================] - 0s 2ms/step - loss: 0.1464 - accuracy: 0.9965 - val_loss: 0.1376 - val_accuracy: 0.9970\n",
            "Epoch 8/10\n",
            "188/188 [==============================] - 0s 2ms/step - loss: 0.1233 - accuracy: 0.9982 - val_loss: 0.1162 - val_accuracy: 0.9970\n",
            "Epoch 9/10\n",
            "188/188 [==============================] - 0s 2ms/step - loss: 0.1039 - accuracy: 0.9985 - val_loss: 0.0972 - val_accuracy: 0.9980\n",
            "Epoch 10/10\n",
            "188/188 [==============================] - 0s 2ms/step - loss: 0.0872 - accuracy: 0.9987 - val_loss: 0.0814 - val_accuracy: 0.9990\n",
            "36/36 - 0s - loss: 0.0840 - accuracy: 0.9991 - 69ms/epoch - 2ms/step\n",
            "Epoch 1/10\n",
            "188/188 [==============================] - 1s 2ms/step - loss: 0.3034 - accuracy: 0.9037 - val_loss: 0.1678 - val_accuracy: 0.9650\n",
            "Epoch 2/10\n",
            "188/188 [==============================] - 0s 2ms/step - loss: 0.1033 - accuracy: 0.9797 - val_loss: 0.0781 - val_accuracy: 0.9810\n",
            "Epoch 3/10\n",
            "188/188 [==============================] - 0s 2ms/step - loss: 0.0529 - accuracy: 0.9873 - val_loss: 0.0470 - val_accuracy: 0.9860\n",
            "Epoch 4/10\n",
            "188/188 [==============================] - 0s 2ms/step - loss: 0.0325 - accuracy: 0.9930 - val_loss: 0.0289 - val_accuracy: 0.9940\n",
            "Epoch 5/10\n",
            "188/188 [==============================] - 0s 2ms/step - loss: 0.0212 - accuracy: 0.9958 - val_loss: 0.0191 - val_accuracy: 0.9970\n",
            "Epoch 6/10\n",
            "188/188 [==============================] - 0s 2ms/step - loss: 0.0144 - accuracy: 0.9972 - val_loss: 0.0129 - val_accuracy: 0.9980\n",
            "Epoch 7/10\n",
            "188/188 [==============================] - 0s 2ms/step - loss: 0.0098 - accuracy: 0.9983 - val_loss: 0.0091 - val_accuracy: 0.9990\n",
            "Epoch 8/10\n",
            "188/188 [==============================] - 0s 2ms/step - loss: 0.0068 - accuracy: 0.9992 - val_loss: 0.0060 - val_accuracy: 1.0000\n",
            "Epoch 9/10\n",
            "188/188 [==============================] - 0s 2ms/step - loss: 0.0046 - accuracy: 1.0000 - val_loss: 0.0042 - val_accuracy: 1.0000\n",
            "Epoch 10/10\n",
            "188/188 [==============================] - 0s 2ms/step - loss: 0.0032 - accuracy: 1.0000 - val_loss: 0.0032 - val_accuracy: 1.0000\n",
            "36/36 - 0s - loss: 0.0025 - accuracy: 1.0000 - 63ms/epoch - 2ms/step\n",
            "Epoch 1/10\n",
            "188/188 [==============================] - 1s 2ms/step - loss: 0.4625 - accuracy: 0.8660 - val_loss: 0.2635 - val_accuracy: 0.9230\n",
            "Epoch 2/10\n",
            "188/188 [==============================] - 0s 2ms/step - loss: 0.1616 - accuracy: 0.9545 - val_loss: 0.1148 - val_accuracy: 0.9590\n",
            "Epoch 3/10\n",
            "188/188 [==============================] - 0s 2ms/step - loss: 0.0739 - accuracy: 0.9837 - val_loss: 0.0602 - val_accuracy: 0.9850\n",
            "Epoch 4/10\n",
            "188/188 [==============================] - 0s 2ms/step - loss: 0.0405 - accuracy: 0.9922 - val_loss: 0.0362 - val_accuracy: 0.9920\n",
            "Epoch 5/10\n",
            "188/188 [==============================] - 0s 2ms/step - loss: 0.0249 - accuracy: 0.9962 - val_loss: 0.0223 - val_accuracy: 0.9970\n",
            "Epoch 6/10\n",
            "188/188 [==============================] - 0s 2ms/step - loss: 0.0161 - accuracy: 0.9978 - val_loss: 0.0149 - val_accuracy: 0.9970\n",
            "Epoch 7/10\n",
            "188/188 [==============================] - 0s 2ms/step - loss: 0.0108 - accuracy: 0.9980 - val_loss: 0.0099 - val_accuracy: 0.9980\n",
            "Epoch 8/10\n",
            "188/188 [==============================] - 0s 2ms/step - loss: 0.0072 - accuracy: 0.9990 - val_loss: 0.0067 - val_accuracy: 0.9990\n",
            "Epoch 9/10\n",
            "188/188 [==============================] - 0s 2ms/step - loss: 0.0049 - accuracy: 0.9998 - val_loss: 0.0046 - val_accuracy: 1.0000\n",
            "Epoch 10/10\n",
            "188/188 [==============================] - 0s 2ms/step - loss: 0.0033 - accuracy: 1.0000 - val_loss: 0.0033 - val_accuracy: 1.0000\n",
            "36/36 - 0s - loss: 0.0025 - accuracy: 1.0000 - 66ms/epoch - 2ms/step\n",
            "Epoch 1/10\n",
            "188/188 [==============================] - 1s 2ms/step - loss: 0.5205 - accuracy: 0.7608 - val_loss: 0.2592 - val_accuracy: 0.9080\n",
            "Epoch 2/10\n",
            "188/188 [==============================] - 0s 2ms/step - loss: 0.1326 - accuracy: 0.9690 - val_loss: 0.0842 - val_accuracy: 0.9820\n",
            "Epoch 3/10\n",
            "188/188 [==============================] - 0s 2ms/step - loss: 0.0507 - accuracy: 0.9890 - val_loss: 0.0407 - val_accuracy: 0.9870\n",
            "Epoch 4/10\n",
            "188/188 [==============================] - 0s 2ms/step - loss: 0.0260 - accuracy: 0.9945 - val_loss: 0.0229 - val_accuracy: 0.9950\n",
            "Epoch 5/10\n",
            "188/188 [==============================] - 0s 2ms/step - loss: 0.0149 - accuracy: 0.9983 - val_loss: 0.0128 - val_accuracy: 0.9990\n",
            "Epoch 6/10\n",
            "188/188 [==============================] - 0s 2ms/step - loss: 0.0089 - accuracy: 0.9990 - val_loss: 0.0082 - val_accuracy: 1.0000\n",
            "Epoch 7/10\n",
            "188/188 [==============================] - 0s 2ms/step - loss: 0.0056 - accuracy: 0.9998 - val_loss: 0.0049 - val_accuracy: 1.0000\n",
            "Epoch 8/10\n",
            "188/188 [==============================] - 0s 2ms/step - loss: 0.0035 - accuracy: 1.0000 - val_loss: 0.0032 - val_accuracy: 1.0000\n",
            "Epoch 9/10\n",
            "188/188 [==============================] - 0s 2ms/step - loss: 0.0022 - accuracy: 1.0000 - val_loss: 0.0021 - val_accuracy: 1.0000\n",
            "Epoch 10/10\n",
            "188/188 [==============================] - 0s 2ms/step - loss: 0.0015 - accuracy: 1.0000 - val_loss: 0.0015 - val_accuracy: 1.0000\n",
            "36/36 - 0s - loss: 0.0012 - accuracy: 1.0000 - 50ms/epoch - 1ms/step\n",
            "Epoch 1/10\n",
            "188/188 [==============================] - 1s 2ms/step - loss: 0.3931 - accuracy: 0.8693 - val_loss: 0.2179 - val_accuracy: 0.9350\n",
            "Epoch 2/10\n",
            "188/188 [==============================] - 0s 2ms/step - loss: 0.1317 - accuracy: 0.9642 - val_loss: 0.0951 - val_accuracy: 0.9760\n",
            "Epoch 3/10\n",
            "188/188 [==============================] - 0s 2ms/step - loss: 0.0586 - accuracy: 0.9865 - val_loss: 0.0513 - val_accuracy: 0.9820\n",
            "Epoch 4/10\n",
            "188/188 [==============================] - 0s 2ms/step - loss: 0.0328 - accuracy: 0.9908 - val_loss: 0.0325 - val_accuracy: 0.9850\n",
            "Epoch 5/10\n",
            "188/188 [==============================] - 0s 2ms/step - loss: 0.0197 - accuracy: 0.9957 - val_loss: 0.0194 - val_accuracy: 0.9950\n",
            "Epoch 6/10\n",
            "188/188 [==============================] - 0s 2ms/step - loss: 0.0123 - accuracy: 0.9983 - val_loss: 0.0115 - val_accuracy: 0.9980\n",
            "Epoch 7/10\n",
            "188/188 [==============================] - 0s 2ms/step - loss: 0.0077 - accuracy: 0.9992 - val_loss: 0.0075 - val_accuracy: 1.0000\n",
            "Epoch 8/10\n",
            "188/188 [==============================] - 0s 2ms/step - loss: 0.0050 - accuracy: 0.9998 - val_loss: 0.0047 - val_accuracy: 1.0000\n",
            "Epoch 9/10\n",
            "188/188 [==============================] - 0s 2ms/step - loss: 0.0032 - accuracy: 1.0000 - val_loss: 0.0031 - val_accuracy: 1.0000\n",
            "Epoch 10/10\n",
            "188/188 [==============================] - 0s 2ms/step - loss: 0.0021 - accuracy: 1.0000 - val_loss: 0.0022 - val_accuracy: 1.0000\n",
            "36/36 - 0s - loss: 0.0017 - accuracy: 1.0000 - 65ms/epoch - 2ms/step\n",
            "\n",
            "suggested number of neurons: 1. Note: this value may change in each execution.\n"
          ]
        }
      ],
      "source": [
        "# this builds a neural network with one hidden layer and a variable number of neurons\n",
        "# it keeps track of the best current test accuracy and suggests a different number of neurons\n",
        "# if the test accuracy could be improved by at least 0.1%\n",
        "best = 0 \n",
        "suggested_num = 0\n",
        "i = 0\n",
        "while i < 5:\n",
        "  i+=1\n",
        "  model = tf.keras.models.Sequential()\n",
        "  model.add(tf.keras.layers.Flatten(input_shape=(117,)))\n",
        "  model.add(tf.keras.layers.Dense(i, activation='relu'))\n",
        "  model.add(tf.keras.layers.Dense(1, activation='sigmoid'))\n",
        "    \n",
        "  loss_fn = tf.keras.losses.BinaryCrossentropy()\n",
        "  model.compile(loss = loss_fn, metrics = ['accuracy'])\n",
        "  history = model.fit(X_train, y_train, epochs = 10, validation_data=(X_val,y_val))\n",
        "\n",
        "  acc = test_accuracy = model.evaluate(X_test,  y_test, verbose=2)[1]\n",
        "  if best == 0:\n",
        "    best = acc\n",
        "    suggested_num = i\n",
        "  elif best != 0 and acc-best > 0.001:\n",
        "    best = acc\n",
        "    suggested_num = i\n",
        "\n",
        "print(f\"\\nsuggested number of neurons: {suggested_num}. Note: this value may change in each execution.\") "
      ]
    },
    {
      "cell_type": "markdown",
      "metadata": {},
      "source": [
        "## find a good number of hidden layers"
      ]
    },
    {
      "cell_type": "code",
      "execution_count": 159,
      "metadata": {},
      "outputs": [
        {
          "name": "stdout",
          "output_type": "stream",
          "text": [
            "Epoch 1/10\n",
            "188/188 [==============================] - 1s 3ms/step - loss: 0.5211 - accuracy: 0.8060 - val_loss: 0.4342 - val_accuracy: 0.8720\n",
            "Epoch 2/10\n",
            "188/188 [==============================] - 0s 2ms/step - loss: 0.3637 - accuracy: 0.9298 - val_loss: 0.3303 - val_accuracy: 0.9500\n",
            "Epoch 3/10\n",
            "188/188 [==============================] - 0s 2ms/step - loss: 0.2852 - accuracy: 0.9767 - val_loss: 0.2682 - val_accuracy: 0.9790\n",
            "Epoch 4/10\n",
            "188/188 [==============================] - 0s 2ms/step - loss: 0.2350 - accuracy: 0.9888 - val_loss: 0.2222 - val_accuracy: 0.9850\n",
            "Epoch 5/10\n",
            "188/188 [==============================] - 0s 2ms/step - loss: 0.1971 - accuracy: 0.9928 - val_loss: 0.1865 - val_accuracy: 0.9890\n",
            "Epoch 6/10\n",
            "188/188 [==============================] - 0s 2ms/step - loss: 0.1663 - accuracy: 0.9948 - val_loss: 0.1576 - val_accuracy: 0.9920\n",
            "Epoch 7/10\n",
            "188/188 [==============================] - 0s 2ms/step - loss: 0.1408 - accuracy: 0.9970 - val_loss: 0.1326 - val_accuracy: 0.9980\n",
            "Epoch 8/10\n",
            "188/188 [==============================] - 0s 2ms/step - loss: 0.1189 - accuracy: 0.9988 - val_loss: 0.1118 - val_accuracy: 0.9990\n",
            "Epoch 9/10\n",
            "188/188 [==============================] - 0s 2ms/step - loss: 0.1002 - accuracy: 0.9990 - val_loss: 0.0942 - val_accuracy: 0.9990\n",
            "Epoch 10/10\n",
            "188/188 [==============================] - 0s 2ms/step - loss: 0.0843 - accuracy: 0.9992 - val_loss: 0.0790 - val_accuracy: 0.9990\n",
            "36/36 - 0s - loss: 0.0816 - accuracy: 0.9991 - 65ms/epoch - 2ms/step\n",
            "Epoch 1/10\n",
            "188/188 [==============================] - 1s 3ms/step - loss: 0.6927 - accuracy: 0.5230 - val_loss: 0.6928 - val_accuracy: 0.5140\n",
            "Epoch 2/10\n",
            "188/188 [==============================] - 0s 2ms/step - loss: 0.6924 - accuracy: 0.5230 - val_loss: 0.6928 - val_accuracy: 0.5140\n",
            "Epoch 3/10\n",
            "188/188 [==============================] - 0s 2ms/step - loss: 0.6922 - accuracy: 0.5230 - val_loss: 0.6928 - val_accuracy: 0.5140\n",
            "Epoch 4/10\n",
            "188/188 [==============================] - 0s 2ms/step - loss: 0.6922 - accuracy: 0.5230 - val_loss: 0.6928 - val_accuracy: 0.5140\n",
            "Epoch 5/10\n",
            "188/188 [==============================] - 0s 2ms/step - loss: 0.6921 - accuracy: 0.5230 - val_loss: 0.6929 - val_accuracy: 0.5140\n",
            "Epoch 6/10\n",
            "188/188 [==============================] - 0s 2ms/step - loss: 0.6921 - accuracy: 0.5230 - val_loss: 0.6929 - val_accuracy: 0.5140\n",
            "Epoch 7/10\n",
            "188/188 [==============================] - 0s 2ms/step - loss: 0.6921 - accuracy: 0.5230 - val_loss: 0.6929 - val_accuracy: 0.5140\n",
            "Epoch 8/10\n",
            "188/188 [==============================] - 0s 2ms/step - loss: 0.6921 - accuracy: 0.5230 - val_loss: 0.6929 - val_accuracy: 0.5140\n",
            "Epoch 9/10\n",
            "188/188 [==============================] - 0s 2ms/step - loss: 0.6921 - accuracy: 0.5230 - val_loss: 0.6929 - val_accuracy: 0.5140\n",
            "Epoch 10/10\n",
            "188/188 [==============================] - 0s 2ms/step - loss: 0.6921 - accuracy: 0.5230 - val_loss: 0.6929 - val_accuracy: 0.5140\n",
            "36/36 - 0s - loss: 0.6946 - accuracy: 0.4947 - 65ms/epoch - 2ms/step\n",
            "Epoch 1/10\n",
            "188/188 [==============================] - 1s 3ms/step - loss: 0.6928 - accuracy: 0.5213 - val_loss: 0.6928 - val_accuracy: 0.5140\n",
            "Epoch 2/10\n",
            "188/188 [==============================] - 0s 2ms/step - loss: 0.6924 - accuracy: 0.5230 - val_loss: 0.6928 - val_accuracy: 0.5140\n",
            "Epoch 3/10\n",
            "188/188 [==============================] - 0s 2ms/step - loss: 0.6922 - accuracy: 0.5230 - val_loss: 0.6928 - val_accuracy: 0.5140\n",
            "Epoch 4/10\n",
            "188/188 [==============================] - 0s 2ms/step - loss: 0.6922 - accuracy: 0.5230 - val_loss: 0.6929 - val_accuracy: 0.5140\n",
            "Epoch 5/10\n",
            "188/188 [==============================] - 0s 2ms/step - loss: 0.6921 - accuracy: 0.5230 - val_loss: 0.6929 - val_accuracy: 0.5140\n",
            "Epoch 6/10\n",
            "188/188 [==============================] - 0s 2ms/step - loss: 0.6921 - accuracy: 0.5230 - val_loss: 0.6929 - val_accuracy: 0.5140\n",
            "Epoch 7/10\n",
            "188/188 [==============================] - 0s 2ms/step - loss: 0.6921 - accuracy: 0.5230 - val_loss: 0.6929 - val_accuracy: 0.5140\n",
            "Epoch 8/10\n",
            "188/188 [==============================] - 0s 2ms/step - loss: 0.6921 - accuracy: 0.5230 - val_loss: 0.6929 - val_accuracy: 0.5140\n",
            "Epoch 9/10\n",
            "188/188 [==============================] - 0s 2ms/step - loss: 0.6921 - accuracy: 0.5230 - val_loss: 0.6929 - val_accuracy: 0.5140\n",
            "Epoch 10/10\n",
            "188/188 [==============================] - 0s 2ms/step - loss: 0.6921 - accuracy: 0.5230 - val_loss: 0.6929 - val_accuracy: 0.5140\n",
            "36/36 - 0s - loss: 0.6946 - accuracy: 0.4947 - 68ms/epoch - 2ms/step\n",
            "Epoch 1/10\n",
            "188/188 [==============================] - 1s 3ms/step - loss: 0.6928 - accuracy: 0.5167 - val_loss: 0.6928 - val_accuracy: 0.5140\n",
            "Epoch 2/10\n",
            "188/188 [==============================] - 0s 2ms/step - loss: 0.6924 - accuracy: 0.5230 - val_loss: 0.6928 - val_accuracy: 0.5140\n",
            "Epoch 3/10\n",
            "188/188 [==============================] - 0s 2ms/step - loss: 0.6922 - accuracy: 0.5230 - val_loss: 0.6928 - val_accuracy: 0.5140\n",
            "Epoch 4/10\n",
            "188/188 [==============================] - 0s 2ms/step - loss: 0.6922 - accuracy: 0.5230 - val_loss: 0.6928 - val_accuracy: 0.5140\n",
            "Epoch 5/10\n",
            "188/188 [==============================] - 0s 2ms/step - loss: 0.6921 - accuracy: 0.5230 - val_loss: 0.6929 - val_accuracy: 0.5140\n",
            "Epoch 6/10\n",
            "188/188 [==============================] - 0s 2ms/step - loss: 0.6921 - accuracy: 0.5230 - val_loss: 0.6929 - val_accuracy: 0.5140\n",
            "Epoch 7/10\n",
            "188/188 [==============================] - 0s 2ms/step - loss: 0.6921 - accuracy: 0.5230 - val_loss: 0.6929 - val_accuracy: 0.5140\n",
            "Epoch 8/10\n",
            "188/188 [==============================] - 0s 2ms/step - loss: 0.6921 - accuracy: 0.5230 - val_loss: 0.6929 - val_accuracy: 0.5140\n",
            "Epoch 9/10\n",
            "188/188 [==============================] - 0s 2ms/step - loss: 0.6921 - accuracy: 0.5230 - val_loss: 0.6930 - val_accuracy: 0.5140\n",
            "Epoch 10/10\n",
            "188/188 [==============================] - 0s 2ms/step - loss: 0.6921 - accuracy: 0.5230 - val_loss: 0.6929 - val_accuracy: 0.5140\n",
            "36/36 - 0s - loss: 0.6947 - accuracy: 0.4947 - 67ms/epoch - 2ms/step\n",
            "Epoch 1/10\n",
            "188/188 [==============================] - 1s 3ms/step - loss: 0.5707 - accuracy: 0.7702 - val_loss: 0.4505 - val_accuracy: 0.8780\n",
            "Epoch 2/10\n",
            "188/188 [==============================] - 0s 2ms/step - loss: 0.3877 - accuracy: 0.9308 - val_loss: 0.3447 - val_accuracy: 0.9530\n",
            "Epoch 3/10\n",
            "188/188 [==============================] - 0s 2ms/step - loss: 0.3074 - accuracy: 0.9672 - val_loss: 0.2821 - val_accuracy: 0.9660\n",
            "Epoch 4/10\n",
            "188/188 [==============================] - 0s 2ms/step - loss: 0.2540 - accuracy: 0.9792 - val_loss: 0.2383 - val_accuracy: 0.9750\n",
            "Epoch 5/10\n",
            "188/188 [==============================] - 0s 2ms/step - loss: 0.2167 - accuracy: 0.9833 - val_loss: 0.2078 - val_accuracy: 0.9770\n",
            "Epoch 6/10\n",
            "188/188 [==============================] - 0s 2ms/step - loss: 0.1880 - accuracy: 0.9852 - val_loss: 0.1842 - val_accuracy: 0.9770\n",
            "Epoch 7/10\n",
            "188/188 [==============================] - 0s 2ms/step - loss: 0.1644 - accuracy: 0.9857 - val_loss: 0.1649 - val_accuracy: 0.9770\n",
            "Epoch 8/10\n",
            "188/188 [==============================] - 0s 2ms/step - loss: 0.1454 - accuracy: 0.9857 - val_loss: 0.1487 - val_accuracy: 0.9770\n",
            "Epoch 9/10\n",
            "188/188 [==============================] - 0s 2ms/step - loss: 0.1289 - accuracy: 0.9857 - val_loss: 0.1354 - val_accuracy: 0.9770\n",
            "Epoch 10/10\n",
            "188/188 [==============================] - 0s 2ms/step - loss: 0.1153 - accuracy: 0.9857 - val_loss: 0.1247 - val_accuracy: 0.9770\n",
            "36/36 - 0s - loss: 0.1030 - accuracy: 0.9867 - 66ms/epoch - 2ms/step\n",
            "Epoch 1/10\n",
            "188/188 [==============================] - 1s 3ms/step - loss: 0.6928 - accuracy: 0.5230 - val_loss: 0.6928 - val_accuracy: 0.5140\n",
            "Epoch 2/10\n",
            "188/188 [==============================] - 0s 2ms/step - loss: 0.6924 - accuracy: 0.5230 - val_loss: 0.6928 - val_accuracy: 0.5140\n",
            "Epoch 3/10\n",
            "188/188 [==============================] - 0s 2ms/step - loss: 0.6922 - accuracy: 0.5230 - val_loss: 0.6928 - val_accuracy: 0.5140\n",
            "Epoch 4/10\n",
            "188/188 [==============================] - 0s 2ms/step - loss: 0.6921 - accuracy: 0.5230 - val_loss: 0.6929 - val_accuracy: 0.5140\n",
            "Epoch 5/10\n",
            "188/188 [==============================] - 0s 2ms/step - loss: 0.6921 - accuracy: 0.5230 - val_loss: 0.6929 - val_accuracy: 0.5140\n",
            "Epoch 6/10\n",
            "188/188 [==============================] - 0s 2ms/step - loss: 0.6921 - accuracy: 0.5230 - val_loss: 0.6929 - val_accuracy: 0.5140\n",
            "Epoch 7/10\n",
            "188/188 [==============================] - 0s 2ms/step - loss: 0.6921 - accuracy: 0.5230 - val_loss: 0.6929 - val_accuracy: 0.5140\n",
            "Epoch 8/10\n",
            "188/188 [==============================] - 0s 2ms/step - loss: 0.6921 - accuracy: 0.5230 - val_loss: 0.6929 - val_accuracy: 0.5140\n",
            "Epoch 9/10\n",
            "188/188 [==============================] - 0s 2ms/step - loss: 0.6921 - accuracy: 0.5230 - val_loss: 0.6929 - val_accuracy: 0.5140\n",
            "Epoch 10/10\n",
            "188/188 [==============================] - 0s 2ms/step - loss: 0.6921 - accuracy: 0.5230 - val_loss: 0.6929 - val_accuracy: 0.5140\n",
            "36/36 - 0s - loss: 0.6947 - accuracy: 0.4947 - 66ms/epoch - 2ms/step\n",
            "Epoch 1/10\n",
            "188/188 [==============================] - 1s 3ms/step - loss: 0.6929 - accuracy: 0.5193 - val_loss: 0.6928 - val_accuracy: 0.5140\n",
            "Epoch 2/10\n",
            "188/188 [==============================] - 0s 2ms/step - loss: 0.6924 - accuracy: 0.5230 - val_loss: 0.6928 - val_accuracy: 0.5140\n",
            "Epoch 3/10\n",
            "188/188 [==============================] - 0s 2ms/step - loss: 0.6922 - accuracy: 0.5230 - val_loss: 0.6928 - val_accuracy: 0.5140\n",
            "Epoch 4/10\n",
            "188/188 [==============================] - 0s 2ms/step - loss: 0.6922 - accuracy: 0.5230 - val_loss: 0.6928 - val_accuracy: 0.5140\n",
            "Epoch 5/10\n",
            "188/188 [==============================] - 0s 2ms/step - loss: 0.6921 - accuracy: 0.5230 - val_loss: 0.6928 - val_accuracy: 0.5140\n",
            "Epoch 6/10\n",
            "188/188 [==============================] - 0s 2ms/step - loss: 0.6921 - accuracy: 0.5230 - val_loss: 0.6929 - val_accuracy: 0.5140\n",
            "Epoch 7/10\n",
            "188/188 [==============================] - 0s 2ms/step - loss: 0.6921 - accuracy: 0.5230 - val_loss: 0.6929 - val_accuracy: 0.5140\n",
            "Epoch 8/10\n",
            "188/188 [==============================] - 0s 2ms/step - loss: 0.6921 - accuracy: 0.5230 - val_loss: 0.6929 - val_accuracy: 0.5140\n",
            "Epoch 9/10\n",
            "188/188 [==============================] - 0s 2ms/step - loss: 0.6921 - accuracy: 0.5230 - val_loss: 0.6929 - val_accuracy: 0.5140\n",
            "Epoch 10/10\n",
            "188/188 [==============================] - 0s 2ms/step - loss: 0.6921 - accuracy: 0.5230 - val_loss: 0.6929 - val_accuracy: 0.5140\n",
            "36/36 - 0s - loss: 0.6947 - accuracy: 0.4947 - 66ms/epoch - 2ms/step\n",
            "Epoch 1/10\n",
            "188/188 [==============================] - 2s 3ms/step - loss: 0.6928 - accuracy: 0.5230 - val_loss: 0.6928 - val_accuracy: 0.5140\n",
            "Epoch 2/10\n",
            "188/188 [==============================] - 0s 2ms/step - loss: 0.6924 - accuracy: 0.5230 - val_loss: 0.6928 - val_accuracy: 0.5140\n",
            "Epoch 3/10\n",
            "188/188 [==============================] - 0s 2ms/step - loss: 0.6922 - accuracy: 0.5230 - val_loss: 0.6928 - val_accuracy: 0.5140\n",
            "Epoch 4/10\n",
            "188/188 [==============================] - 0s 2ms/step - loss: 0.6922 - accuracy: 0.5230 - val_loss: 0.6928 - val_accuracy: 0.5140\n",
            "Epoch 5/10\n",
            "188/188 [==============================] - 0s 2ms/step - loss: 0.6921 - accuracy: 0.5230 - val_loss: 0.6928 - val_accuracy: 0.5140\n",
            "Epoch 6/10\n",
            "188/188 [==============================] - 0s 2ms/step - loss: 0.6922 - accuracy: 0.5230 - val_loss: 0.6929 - val_accuracy: 0.5140\n",
            "Epoch 7/10\n",
            "188/188 [==============================] - 0s 2ms/step - loss: 0.6921 - accuracy: 0.5230 - val_loss: 0.6929 - val_accuracy: 0.5140\n",
            "Epoch 8/10\n",
            "188/188 [==============================] - 0s 2ms/step - loss: 0.6921 - accuracy: 0.5230 - val_loss: 0.6928 - val_accuracy: 0.5140\n",
            "Epoch 9/10\n",
            "188/188 [==============================] - 0s 2ms/step - loss: 0.6921 - accuracy: 0.5230 - val_loss: 0.6929 - val_accuracy: 0.5140\n",
            "Epoch 10/10\n",
            "188/188 [==============================] - 0s 2ms/step - loss: 0.6921 - accuracy: 0.5230 - val_loss: 0.6929 - val_accuracy: 0.5140\n",
            "36/36 - 0s - loss: 0.6947 - accuracy: 0.4947 - 72ms/epoch - 2ms/step\n",
            "Epoch 1/10\n",
            "188/188 [==============================] - 2s 3ms/step - loss: 0.6929 - accuracy: 0.5183 - val_loss: 0.6928 - val_accuracy: 0.5140\n",
            "Epoch 2/10\n",
            "188/188 [==============================] - 0s 2ms/step - loss: 0.6924 - accuracy: 0.5230 - val_loss: 0.6928 - val_accuracy: 0.5140\n",
            "Epoch 3/10\n",
            "188/188 [==============================] - 0s 2ms/step - loss: 0.6922 - accuracy: 0.5230 - val_loss: 0.6928 - val_accuracy: 0.5140\n",
            "Epoch 4/10\n",
            "188/188 [==============================] - 0s 2ms/step - loss: 0.6922 - accuracy: 0.5230 - val_loss: 0.6928 - val_accuracy: 0.5140\n",
            "Epoch 5/10\n",
            "188/188 [==============================] - 0s 2ms/step - loss: 0.6921 - accuracy: 0.5230 - val_loss: 0.6928 - val_accuracy: 0.5140\n",
            "Epoch 6/10\n",
            "188/188 [==============================] - 0s 2ms/step - loss: 0.6921 - accuracy: 0.5230 - val_loss: 0.6929 - val_accuracy: 0.5140\n",
            "Epoch 7/10\n",
            "188/188 [==============================] - 0s 2ms/step - loss: 0.6921 - accuracy: 0.5230 - val_loss: 0.6929 - val_accuracy: 0.5140\n",
            "Epoch 8/10\n",
            "188/188 [==============================] - 0s 2ms/step - loss: 0.6921 - accuracy: 0.5230 - val_loss: 0.6929 - val_accuracy: 0.5140\n",
            "Epoch 9/10\n",
            "188/188 [==============================] - 0s 2ms/step - loss: 0.6921 - accuracy: 0.5230 - val_loss: 0.6929 - val_accuracy: 0.5140\n",
            "Epoch 10/10\n",
            "188/188 [==============================] - 0s 2ms/step - loss: 0.6921 - accuracy: 0.5230 - val_loss: 0.6929 - val_accuracy: 0.5140\n",
            "36/36 - 0s - loss: 0.6947 - accuracy: 0.4947 - 73ms/epoch - 2ms/step\n",
            "Epoch 1/10\n",
            "188/188 [==============================] - 2s 3ms/step - loss: 0.6928 - accuracy: 0.5203 - val_loss: 0.6928 - val_accuracy: 0.5140\n",
            "Epoch 2/10\n",
            "188/188 [==============================] - 0s 2ms/step - loss: 0.6924 - accuracy: 0.5230 - val_loss: 0.6928 - val_accuracy: 0.5140\n",
            "Epoch 3/10\n",
            "188/188 [==============================] - 0s 2ms/step - loss: 0.6922 - accuracy: 0.5230 - val_loss: 0.6928 - val_accuracy: 0.5140\n",
            "Epoch 4/10\n",
            "188/188 [==============================] - 0s 2ms/step - loss: 0.6922 - accuracy: 0.5230 - val_loss: 0.6928 - val_accuracy: 0.5140\n",
            "Epoch 5/10\n",
            "188/188 [==============================] - 0s 2ms/step - loss: 0.6921 - accuracy: 0.5230 - val_loss: 0.6929 - val_accuracy: 0.5140\n",
            "Epoch 6/10\n",
            "188/188 [==============================] - 0s 2ms/step - loss: 0.6921 - accuracy: 0.5230 - val_loss: 0.6929 - val_accuracy: 0.5140\n",
            "Epoch 7/10\n",
            "188/188 [==============================] - 0s 2ms/step - loss: 0.6921 - accuracy: 0.5230 - val_loss: 0.6929 - val_accuracy: 0.5140\n",
            "Epoch 8/10\n",
            "188/188 [==============================] - 0s 2ms/step - loss: 0.6921 - accuracy: 0.5230 - val_loss: 0.6929 - val_accuracy: 0.5140\n",
            "Epoch 9/10\n",
            "188/188 [==============================] - 0s 2ms/step - loss: 0.6921 - accuracy: 0.5230 - val_loss: 0.6929 - val_accuracy: 0.5140\n",
            "Epoch 10/10\n",
            "188/188 [==============================] - 0s 2ms/step - loss: 0.6921 - accuracy: 0.5230 - val_loss: 0.6929 - val_accuracy: 0.5140\n",
            "36/36 - 0s - loss: 0.6947 - accuracy: 0.4947 - 64ms/epoch - 2ms/step\n",
            "suggested number of hidden layers: 1. Note this number may also change in each execution.\n"
          ]
        }
      ],
      "source": [
        "# this builds a neural network with a variable number of hidden layers and one neuron in each\n",
        "# it keeps track of the best current test accuracy and suggests a different number of hidden layers\n",
        "# if the test accuracy could be improved by at least 0.1%\n",
        "best = 0 \n",
        "suggested_num_2 = 0\n",
        "i = 0\n",
        "best_history = \"\"\n",
        "test_accuracy = 0\n",
        "while i < 10:\n",
        "  i+=1\n",
        "  model = tf.keras.models.Sequential()\n",
        "  model.add(tf.keras.layers.Flatten(input_shape=(117,)))\n",
        "  for j in range(i):\n",
        "    model.add(tf.keras.layers.Dense(suggested_num, activation='relu'))\n",
        "  model.add(tf.keras.layers.Dense(1, activation='sigmoid'))\n",
        "    \n",
        "  loss_fn = tf.keras.losses.BinaryCrossentropy()\n",
        "  model.compile(loss = loss_fn, metrics = ['accuracy'])\n",
        "  history = model.fit(X_train, y_train, epochs = 10, validation_data=(X_val,y_val))\n",
        "\n",
        "  acc = model.evaluate(X_test,  y_test, verbose=2)[1]\n",
        "  if acc-best > 0.001:\n",
        "    best = acc\n",
        "    suggested_num_2 = i\n",
        "    best_history = history\n",
        "\n",
        "print(f\"suggested number of hidden layers: {suggested_num_2}. Note this number may also change in each execution.\")"
      ]
    },
    {
      "cell_type": "code",
      "execution_count": 160,
      "id": "95eb2ae4-6284-4f20-ae29-a38ec9aa2e9a",
      "metadata": {
        "id": "95eb2ae4-6284-4f20-ae29-a38ec9aa2e9a"
      },
      "outputs": [
        {
          "name": "stdout",
          "output_type": "stream",
          "text": [
            "\n",
            "test accuracy = 0.9991103410720825\n",
            "\n"
          ]
        },
        {
          "data": {
            "image/png": "[encoded data removed]",
            "text/plain": [
              "<Figure size 1000x500 with 2 Axes>"
            ]
          },
          "metadata": {},
          "output_type": "display_data"
        },
        {
          "data": {
            "image/png": "[encoded data removed]",
            "text/plain": [
              "<Figure size 1000x500 with 2 Axes>"
            ]
          },
          "metadata": {},
          "output_type": "display_data"
        }
      ],
      "source": [
        "_,axs=plt.subplots(1,2,figsize=(10,5))\n",
        "axs[0].plot(best_history.epoch,best_history.history['loss'],'o-')\n",
        "axs[0].set_xlabel('epochs')\n",
        "axs[0].set_ylabel('training loss')\n",
        "\n",
        "axs[1].plot(best_history.epoch,np.array(best_history.history['accuracy'])*100,'o-')\n",
        "axs[1].set_xlabel('epochs')\n",
        "axs[1].set_ylabel('training accuracy [%]')\n",
        "\n",
        "_,axs=plt.subplots(1,2,figsize=(10,5))\n",
        "axs[0].plot(best_history.epoch,best_history.history['val_loss'],'o-')\n",
        "axs[0].set_xlabel('epochs')\n",
        "axs[0].set_ylabel('validation loss')\n",
        "\n",
        "axs[1].plot(best_history.epoch,np.array(best_history.history['val_accuracy'])*100,'o-')\n",
        "axs[1].set_xlabel('epochs')\n",
        "axs[1].set_ylabel('validation accuracy [%]')\n",
        "\n",
        "print(f\"\\ntest accuracy = {best}\\n\")\n"
      ]
    }
  ],
  "metadata": {
    "colab": {
      "provenance": []
    },
    "kernelspec": {
      "display_name": "Python 3 (ipykernel)",
      "language": "python",
      "name": "python3"
    },
    "language_info": {
      "codemirror_mode": {
        "name": "ipython",
        "version": 3
      },
      "file_extension": ".py",
      "mimetype": "text/x-python",
      "name": "python",
      "nbconvert_exporter": "python",
      "pygments_lexer": "ipython3",
      "version": "3.9.4"
    }
  },
  "nbformat": 4,
  "nbformat_minor": 5
}
