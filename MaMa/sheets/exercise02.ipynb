{
  "cells": [
    {
      "cell_type": "markdown",
      "metadata": {
        "id": "s2PEXhoF_8bY"
      },
      "source": [
        "# Exercise: Polynomial regression\n",
        "\n",
        "In this exercise we train polynomial regressors. Given data $(x_1,y_1),\\ldots, (x_n,y_n)$ we search for polynomial regressors $f$ such that $$\\sum_{i=1} (y_i-f(x_i))^2$$ becomes small.\n",
        "\n",
        "First we do some of the necessary imports."
      ]
    },
    {
      "cell_type": "code",
      "execution_count": 1,
      "metadata": {
        "id": "EvR52WJy_8bc"
      },
      "outputs": [],
      "source": [
        "import numpy as np  # for general scientific computing\n",
        "import matplotlib.pyplot as plt # plotting\n",
        "import sklearn.linear_model # linear regression\n",
        "import sklearn.preprocessing # for polynomial regression (see below)"
      ]
    },
    {
      "cell_type": "markdown",
      "metadata": {
        "id": "fbXQ3HRCRBMP"
      },
      "source": [
        "We generate a small training and test set. Both sets come from the quadratic function $1.5x^2-2x+1$, with a little bit of random noise added. To illustrate both sets we plot them, as well as the quadratic function.\n",
        "\n",
        "You do not need to understand the code below in full detail. There is just one detail I'd like to point out. The estimators of *scikit learn* expect the training set to have a particular format: a list (or rather an array) of (multidimensional) data vectors. Because of that the estimators will raise an error if the training set is 1-dimensional. Consequently, we need to <code>reshape</code> the data. That is, we turn 1-dimensional data into 2-dimensional data. Let me demonstrate."
      ]
    },
    {
      "cell_type": "code",
      "execution_count": 2,
      "metadata": {
        "id": "WjZqdrWaQdDA"
      },
      "outputs": [
        {
          "data": {
            "text/plain": [
              "array([ 1.,  2., 42.])"
            ]
          },
          "execution_count": 2,
          "metadata": {},
          "output_type": "execute_result"
        }
      ],
      "source": [
        "one_dim=np.array([1.,2.,42.])\n",
        "one_dim"
      ]
    },
    {
      "cell_type": "code",
      "execution_count": 3,
      "metadata": {
        "id": "k7nPbiN3QdDA"
      },
      "outputs": [
        {
          "data": {
            "text/plain": [
              "array([[ 1.],\n",
              "       [ 2.],\n",
              "       [42.]])"
            ]
          },
          "execution_count": 3,
          "metadata": {},
          "output_type": "execute_result"
        }
      ],
      "source": [
        "one_dim.reshape(-1,1)"
      ]
    },
    {
      "cell_type": "markdown",
      "metadata": {
        "id": "PD8TL6jaQdDA"
      },
      "source": [
        "Now let's generate the training set consisting of data <code>x_train</code> and target values <code>y_train</code>, and the test set consisting of <code>x_test</code> and <code>y_test</code>."
      ]
    },
    {
      "cell_type": "code",
      "execution_count": 4,
      "metadata": {
        "id": "Tnb3gFF0_8bw"
      },
      "outputs": [
        {
          "data": {
            "image/png": "[encoded data removed]",
            "text/plain": [
              "<Figure size 500x500 with 1 Axes>"
            ]
          },
          "metadata": {},
          "output_type": "display_data"
        }
      ],
      "source": [
        "def true_function(x):\n",
        "    return 2.5*x**2-2*x+1\n",
        "\n",
        "def draw_points(number):\n",
        "    np.random.seed(42*number)\n",
        "    x = np.random.random(number)\n",
        "    noise = np.random.normal(scale=0.05,size=number)\n",
        "    y = true_function(x) + noise\n",
        "    return x.reshape(-1,1),y # x reshaped because training set cannot be 1-dim\n",
        "\n",
        "training_size = 10\n",
        "x_train,y_train=draw_points(training_size)\n",
        "\n",
        "test_size = 5\n",
        "x_test,y_test = draw_points(test_size)\n",
        "\n",
        "xx=np.linspace(0,1,200)\n",
        "yy_true=true_function(xx)\n",
        "fig,ax=plt.subplots(figsize=(5,5))\n",
        "ax.plot(xx,yy_true,\"b-\",label=\"true curve\",linewidth=4)\n",
        "ax.plot(x_test.flat,y_test,\"rx\",label=\"test set\")\n",
        "ax.plot(x_train.flat,y_train,\"go\",label=\"training set\")\n",
        "ax.legend()\n",
        "plt.show()"
      ]
    },
    {
      "cell_type": "markdown",
      "metadata": {
        "id": "CZR-G0LXQdDB"
      },
      "source": [
        "Next, we train a linear regression. For this, we first instantiate a <code>LinearRegression</code> object, which we find in the package <code>sklearn.linear_model</code>. Then it needs to be trained. All classifiers and regressors in *scikit learn* have a method <code>fit</code> for this."
      ]
    },
    {
      "cell_type": "code",
      "execution_count": 5,
      "metadata": {
        "id": "yDUU5ROBQdDB"
      },
      "outputs": [
        {
          "data": {
            "text/html": [
              "<style>#sk-container-id-1 {color: black;}#sk-container-id-1 pre{padding: 0;}#sk-container-id-1 div.sk-toggleable {background-color: white;}#sk-container-id-1 label.sk-toggleable__label {cursor: pointer;display: block;width: 100%;margin-bottom: 0;padding: 0.3em;box-sizing: border-box;text-align: center;}#sk-container-id-1 label.sk-toggleable__label-arrow:before {content: \"▸\";float: left;margin-right: 0.25em;color: #696969;}#sk-container-id-1 label.sk-toggleable__label-arrow:hover:before {color: black;}#sk-container-id-1 div.sk-estimator:hover label.sk-toggleable__label-arrow:before {color: black;}#sk-container-id-1 div.sk-toggleable__content {max-height: 0;max-width: 0;overflow: hidden;text-align: left;background-color: #f0f8ff;}#sk-container-id-1 div.sk-toggleable__content pre {margin: 0.2em;color: black;border-radius: 0.25em;background-color: #f0f8ff;}#sk-container-id-1 input.sk-toggleable__control:checked~div.sk-toggleable__content {max-height: 200px;max-width: 100%;overflow: auto;}#sk-container-id-1 input.sk-toggleable__control:checked~label.sk-toggleable__label-arrow:before {content: \"▾\";}#sk-container-id-1 div.sk-estimator input.sk-toggleable__control:checked~label.sk-toggleable__label {background-color: #d4ebff;}#sk-container-id-1 div.sk-label input.sk-toggleable__control:checked~label.sk-toggleable__label {background-color: #d4ebff;}#sk-container-id-1 input.sk-hidden--visually {border: 0;clip: rect(1px 1px 1px 1px);clip: rect(1px, 1px, 1px, 1px);height: 1px;margin: -1px;overflow: hidden;padding: 0;position: absolute;width: 1px;}#sk-container-id-1 div.sk-estimator {font-family: monospace;background-color: #f0f8ff;border: 1px dotted black;border-radius: 0.25em;box-sizing: border-box;margin-bottom: 0.5em;}#sk-container-id-1 div.sk-estimator:hover {background-color: #d4ebff;}#sk-container-id-1 div.sk-parallel-item::after {content: \"\";width: 100%;border-bottom: 1px solid gray;flex-grow: 1;}#sk-container-id-1 div.sk-label:hover label.sk-toggleable__label {background-color: #d4ebff;}#sk-container-id-1 div.sk-serial::before {content: \"\";position: absolute;border-left: 1px solid gray;box-sizing: border-box;top: 0;bottom: 0;left: 50%;z-index: 0;}#sk-container-id-1 div.sk-serial {display: flex;flex-direction: column;align-items: center;background-color: white;padding-right: 0.2em;padding-left: 0.2em;position: relative;}#sk-container-id-1 div.sk-item {position: relative;z-index: 1;}#sk-container-id-1 div.sk-parallel {display: flex;align-items: stretch;justify-content: center;background-color: white;position: relative;}#sk-container-id-1 div.sk-item::before, #sk-container-id-1 div.sk-parallel-item::before {content: \"\";position: absolute;border-left: 1px solid gray;box-sizing: border-box;top: 0;bottom: 0;left: 50%;z-index: -1;}#sk-container-id-1 div.sk-parallel-item {display: flex;flex-direction: column;z-index: 1;position: relative;background-color: white;}#sk-container-id-1 div.sk-parallel-item:first-child::after {align-self: flex-end;width: 50%;}#sk-container-id-1 div.sk-parallel-item:last-child::after {align-self: flex-start;width: 50%;}#sk-container-id-1 div.sk-parallel-item:only-child::after {width: 0;}#sk-container-id-1 div.sk-dashed-wrapped {border: 1px dashed gray;margin: 0 0.4em 0.5em 0.4em;box-sizing: border-box;padding-bottom: 0.4em;background-color: white;}#sk-container-id-1 div.sk-label label {font-family: monospace;font-weight: bold;display: inline-block;line-height: 1.2em;}#sk-container-id-1 div.sk-label-container {text-align: center;}#sk-container-id-1 div.sk-container {/* jupyter's `normalize.less` sets `[hidden] { display: none; }` but bootstrap.min.css set `[hidden] { display: none !important; }` so we also need the `!important` here to be able to override the default hidden behavior on the sphinx rendered scikit-learn.org. See: https://github.com/scikit-learn/scikit-learn/issues/21755 */display: inline-block !important;position: relative;}#sk-container-id-1 div.sk-text-repr-fallback {display: none;}</style><div id=\"sk-container-id-1\" class=\"sk-top-container\"><div class=\"sk-text-repr-fallback\"><pre>LinearRegression()</pre><b>In a Jupyter environment, please rerun this cell to show the HTML representation or trust the notebook. <br />On GitHub, the HTML representation is unable to render, please try loading this page with nbviewer.org.</b></div><div class=\"sk-container\" hidden><div class=\"sk-item\"><div class=\"sk-estimator sk-toggleable\"><input class=\"sk-toggleable__control sk-hidden--visually\" id=\"sk-estimator-id-1\" type=\"checkbox\" checked><label for=\"sk-estimator-id-1\" class=\"sk-toggleable__label sk-toggleable__label-arrow\">LinearRegression</label><div class=\"sk-toggleable__content\"><pre>LinearRegression()</pre></div></div></div></div></div>"
            ],
            "text/plain": [
              "LinearRegression()"
            ]
          },
          "execution_count": 5,
          "metadata": {},
          "output_type": "execute_result"
        }
      ],
      "source": [
        "lin_reg=sklearn.linear_model.LinearRegression()\n",
        "lin_reg.fit(x_train,y_train)"
      ]
    },
    {
      "cell_type": "markdown",
      "metadata": {
        "id": "RS4eYAx5QdDB"
      },
      "source": [
        "Once trained, we can <code>predict</code> new values. The method <code>predict</code> expects the $x$-values in the same format as the training set, ie, a list of(multidimensional) data points. That means, even, if you just need the prediction for a single data point, you need to wrap it in square brackets: <code>estimator.predict([single_x])</code>.\n",
        "\n",
        "Because we have 1-dimensional $x$ we even need to put the data into two square brackets. Let's predict two values."
      ]
    },
    {
      "cell_type": "code",
      "execution_count": 6,
      "metadata": {
        "id": "2ujeNpF0QdDB"
      },
      "outputs": [
        {
          "data": {
            "text/plain": [
              "array([0.92269465, 1.2482328 ])"
            ]
          },
          "execution_count": 6,
          "metadata": {},
          "output_type": "execute_result"
        }
      ],
      "source": [
        "lin_reg.predict([[1],[2]])"
      ]
    },
    {
      "cell_type": "markdown",
      "metadata": {
        "id": "-X3bCF9XQdDB"
      },
      "source": [
        "Linear regression is not very interesting. Let's do quadratic regression. We already know that quadratic regression is just linear regression with a modified training set. In *scikit learn* we can easily compute features of any degree with <code>PolynomialFeatures</code>. In the same way that estimators need to be fit first, this is also the case for <code>PolynomialFeatures</code>. <code>fit</code> does not do much here: It simply memorises the dimension of the data. Instead of a <code>predict</code> method, we have here a <code>transform</code> method. Let's have a look."
      ]
    },
    {
      "cell_type": "code",
      "execution_count": 7,
      "metadata": {
        "id": "DLtdX9oZQdDC"
      },
      "outputs": [
        {
          "data": {
            "text/plain": [
              "array([[1., 0., 0.],\n",
              "       [1., 1., 1.],\n",
              "       [1., 2., 4.],\n",
              "       [1., 3., 9.]])"
            ]
          },
          "execution_count": 7,
          "metadata": {},
          "output_type": "execute_result"
        }
      ],
      "source": [
        "quad_features=sklearn.preprocessing.PolynomialFeatures(degree=2)\n",
        "x_demo=np.array([0,1,2,3]).reshape(-1,1) # reshape because estimator expects multidim training set\n",
        "quad_features.fit(x_demo)\n",
        "quad_features.transform(x_demo)"
      ]
    },
    {
      "cell_type": "markdown",
      "metadata": {
        "id": "BcSgb3e7QdDC"
      },
      "source": [
        "We see that the data <code>[2]</code> turns into <code>[1,2,4]</code>, ie, constant term, linear term and quadratic term, as expected.\n",
        "\n",
        "Next, we can plug the new, transformed training set into a linear regression, and obtain a quadratic regressor."
      ]
    },
    {
      "cell_type": "code",
      "execution_count": 8,
      "metadata": {
        "id": "Tu_oxzYcQdDC"
      },
      "outputs": [
        {
          "data": {
            "text/html": [
              "<style>#sk-container-id-2 {color: black;}#sk-container-id-2 pre{padding: 0;}#sk-container-id-2 div.sk-toggleable {background-color: white;}#sk-container-id-2 label.sk-toggleable__label {cursor: pointer;display: block;width: 100%;margin-bottom: 0;padding: 0.3em;box-sizing: border-box;text-align: center;}#sk-container-id-2 label.sk-toggleable__label-arrow:before {content: \"▸\";float: left;margin-right: 0.25em;color: #696969;}#sk-container-id-2 label.sk-toggleable__label-arrow:hover:before {color: black;}#sk-container-id-2 div.sk-estimator:hover label.sk-toggleable__label-arrow:before {color: black;}#sk-container-id-2 div.sk-toggleable__content {max-height: 0;max-width: 0;overflow: hidden;text-align: left;background-color: #f0f8ff;}#sk-container-id-2 div.sk-toggleable__content pre {margin: 0.2em;color: black;border-radius: 0.25em;background-color: #f0f8ff;}#sk-container-id-2 input.sk-toggleable__control:checked~div.sk-toggleable__content {max-height: 200px;max-width: 100%;overflow: auto;}#sk-container-id-2 input.sk-toggleable__control:checked~label.sk-toggleable__label-arrow:before {content: \"▾\";}#sk-container-id-2 div.sk-estimator input.sk-toggleable__control:checked~label.sk-toggleable__label {background-color: #d4ebff;}#sk-container-id-2 div.sk-label input.sk-toggleable__control:checked~label.sk-toggleable__label {background-color: #d4ebff;}#sk-container-id-2 input.sk-hidden--visually {border: 0;clip: rect(1px 1px 1px 1px);clip: rect(1px, 1px, 1px, 1px);height: 1px;margin: -1px;overflow: hidden;padding: 0;position: absolute;width: 1px;}#sk-container-id-2 div.sk-estimator {font-family: monospace;background-color: #f0f8ff;border: 1px dotted black;border-radius: 0.25em;box-sizing: border-box;margin-bottom: 0.5em;}#sk-container-id-2 div.sk-estimator:hover {background-color: #d4ebff;}#sk-container-id-2 div.sk-parallel-item::after {content: \"\";width: 100%;border-bottom: 1px solid gray;flex-grow: 1;}#sk-container-id-2 div.sk-label:hover label.sk-toggleable__label {background-color: #d4ebff;}#sk-container-id-2 div.sk-serial::before {content: \"\";position: absolute;border-left: 1px solid gray;box-sizing: border-box;top: 0;bottom: 0;left: 50%;z-index: 0;}#sk-container-id-2 div.sk-serial {display: flex;flex-direction: column;align-items: center;background-color: white;padding-right: 0.2em;padding-left: 0.2em;position: relative;}#sk-container-id-2 div.sk-item {position: relative;z-index: 1;}#sk-container-id-2 div.sk-parallel {display: flex;align-items: stretch;justify-content: center;background-color: white;position: relative;}#sk-container-id-2 div.sk-item::before, #sk-container-id-2 div.sk-parallel-item::before {content: \"\";position: absolute;border-left: 1px solid gray;box-sizing: border-box;top: 0;bottom: 0;left: 50%;z-index: -1;}#sk-container-id-2 div.sk-parallel-item {display: flex;flex-direction: column;z-index: 1;position: relative;background-color: white;}#sk-container-id-2 div.sk-parallel-item:first-child::after {align-self: flex-end;width: 50%;}#sk-container-id-2 div.sk-parallel-item:last-child::after {align-self: flex-start;width: 50%;}#sk-container-id-2 div.sk-parallel-item:only-child::after {width: 0;}#sk-container-id-2 div.sk-dashed-wrapped {border: 1px dashed gray;margin: 0 0.4em 0.5em 0.4em;box-sizing: border-box;padding-bottom: 0.4em;background-color: white;}#sk-container-id-2 div.sk-label label {font-family: monospace;font-weight: bold;display: inline-block;line-height: 1.2em;}#sk-container-id-2 div.sk-label-container {text-align: center;}#sk-container-id-2 div.sk-container {/* jupyter's `normalize.less` sets `[hidden] { display: none; }` but bootstrap.min.css set `[hidden] { display: none !important; }` so we also need the `!important` here to be able to override the default hidden behavior on the sphinx rendered scikit-learn.org. See: https://github.com/scikit-learn/scikit-learn/issues/21755 */display: inline-block !important;position: relative;}#sk-container-id-2 div.sk-text-repr-fallback {display: none;}</style><div id=\"sk-container-id-2\" class=\"sk-top-container\"><div class=\"sk-text-repr-fallback\"><pre>LinearRegression()</pre><b>In a Jupyter environment, please rerun this cell to show the HTML representation or trust the notebook. <br />On GitHub, the HTML representation is unable to render, please try loading this page with nbviewer.org.</b></div><div class=\"sk-container\" hidden><div class=\"sk-item\"><div class=\"sk-estimator sk-toggleable\"><input class=\"sk-toggleable__control sk-hidden--visually\" id=\"sk-estimator-id-2\" type=\"checkbox\" checked><label for=\"sk-estimator-id-2\" class=\"sk-toggleable__label sk-toggleable__label-arrow\">LinearRegression</label><div class=\"sk-toggleable__content\"><pre>LinearRegression()</pre></div></div></div></div></div>"
            ],
            "text/plain": [
              "LinearRegression()"
            ]
          },
          "execution_count": 8,
          "metadata": {},
          "output_type": "execute_result"
        }
      ],
      "source": [
        "reg=sklearn.linear_model.LinearRegression()\n",
        "reg.fit(quad_features.transform(x_train),y_train)"
      ]
    },
    {
      "cell_type": "markdown",
      "metadata": {
        "id": "-fcHpEhpQdDC"
      },
      "source": [
        "What is a bit annoying: If we now want to do predictions, we first need to <code>transform</code> the $x$-values via <code>quad_features</code> and then call <code>predict</code> on <code>reg</code>:"
      ]
    },
    {
      "cell_type": "code",
      "execution_count": 9,
      "metadata": {
        "id": "d4ivXU5XQdDC"
      },
      "outputs": [
        {
          "data": {
            "text/plain": [
              "array([ 1.57051822, 18.39542361])"
            ]
          },
          "execution_count": 9,
          "metadata": {},
          "output_type": "execute_result"
        }
      ],
      "source": [
        "reg.predict(quad_features.transform([[1],[3]]))"
      ]
    },
    {
      "cell_type": "markdown",
      "metadata": {
        "id": "9aLcGofAQdDC"
      },
      "source": [
        "Because that is so annyoing, *scikit learn* has the class <code>Pipeline</code> that allows to chain any number of transformators and a <code>predictor</code>. Once the pipeline is defined, it can be used like a normal regressor, ie, we can call <code>fit</code> and also <code>predict</code> on it. Here's how that works."
      ]
    },
    {
      "cell_type": "code",
      "execution_count": 33,
      "metadata": {
        "id": "R13vd0MpQdDD"
      },
      "outputs": [
        {
          "data": {
            "text/html": [
              "<style>#sk-container-id-5 {color: black;}#sk-container-id-5 pre{padding: 0;}#sk-container-id-5 div.sk-toggleable {background-color: white;}#sk-container-id-5 label.sk-toggleable__label {cursor: pointer;display: block;width: 100%;margin-bottom: 0;padding: 0.3em;box-sizing: border-box;text-align: center;}#sk-container-id-5 label.sk-toggleable__label-arrow:before {content: \"▸\";float: left;margin-right: 0.25em;color: #696969;}#sk-container-id-5 label.sk-toggleable__label-arrow:hover:before {color: black;}#sk-container-id-5 div.sk-estimator:hover label.sk-toggleable__label-arrow:before {color: black;}#sk-container-id-5 div.sk-toggleable__content {max-height: 0;max-width: 0;overflow: hidden;text-align: left;background-color: #f0f8ff;}#sk-container-id-5 div.sk-toggleable__content pre {margin: 0.2em;color: black;border-radius: 0.25em;background-color: #f0f8ff;}#sk-container-id-5 input.sk-toggleable__control:checked~div.sk-toggleable__content {max-height: 200px;max-width: 100%;overflow: auto;}#sk-container-id-5 input.sk-toggleable__control:checked~label.sk-toggleable__label-arrow:before {content: \"▾\";}#sk-container-id-5 div.sk-estimator input.sk-toggleable__control:checked~label.sk-toggleable__label {background-color: #d4ebff;}#sk-container-id-5 div.sk-label input.sk-toggleable__control:checked~label.sk-toggleable__label {background-color: #d4ebff;}#sk-container-id-5 input.sk-hidden--visually {border: 0;clip: rect(1px 1px 1px 1px);clip: rect(1px, 1px, 1px, 1px);height: 1px;margin: -1px;overflow: hidden;padding: 0;position: absolute;width: 1px;}#sk-container-id-5 div.sk-estimator {font-family: monospace;background-color: #f0f8ff;border: 1px dotted black;border-radius: 0.25em;box-sizing: border-box;margin-bottom: 0.5em;}#sk-container-id-5 div.sk-estimator:hover {background-color: #d4ebff;}#sk-container-id-5 div.sk-parallel-item::after {content: \"\";width: 100%;border-bottom: 1px solid gray;flex-grow: 1;}#sk-container-id-5 div.sk-label:hover label.sk-toggleable__label {background-color: #d4ebff;}#sk-container-id-5 div.sk-serial::before {content: \"\";position: absolute;border-left: 1px solid gray;box-sizing: border-box;top: 0;bottom: 0;left: 50%;z-index: 0;}#sk-container-id-5 div.sk-serial {display: flex;flex-direction: column;align-items: center;background-color: white;padding-right: 0.2em;padding-left: 0.2em;position: relative;}#sk-container-id-5 div.sk-item {position: relative;z-index: 1;}#sk-container-id-5 div.sk-parallel {display: flex;align-items: stretch;justify-content: center;background-color: white;position: relative;}#sk-container-id-5 div.sk-item::before, #sk-container-id-5 div.sk-parallel-item::before {content: \"\";position: absolute;border-left: 1px solid gray;box-sizing: border-box;top: 0;bottom: 0;left: 50%;z-index: -1;}#sk-container-id-5 div.sk-parallel-item {display: flex;flex-direction: column;z-index: 1;position: relative;background-color: white;}#sk-container-id-5 div.sk-parallel-item:first-child::after {align-self: flex-end;width: 50%;}#sk-container-id-5 div.sk-parallel-item:last-child::after {align-self: flex-start;width: 50%;}#sk-container-id-5 div.sk-parallel-item:only-child::after {width: 0;}#sk-container-id-5 div.sk-dashed-wrapped {border: 1px dashed gray;margin: 0 0.4em 0.5em 0.4em;box-sizing: border-box;padding-bottom: 0.4em;background-color: white;}#sk-container-id-5 div.sk-label label {font-family: monospace;font-weight: bold;display: inline-block;line-height: 1.2em;}#sk-container-id-5 div.sk-label-container {text-align: center;}#sk-container-id-5 div.sk-container {/* jupyter's `normalize.less` sets `[hidden] { display: none; }` but bootstrap.min.css set `[hidden] { display: none !important; }` so we also need the `!important` here to be able to override the default hidden behavior on the sphinx rendered scikit-learn.org. See: https://github.com/scikit-learn/scikit-learn/issues/21755 */display: inline-block !important;position: relative;}#sk-container-id-5 div.sk-text-repr-fallback {display: none;}</style><div id=\"sk-container-id-5\" class=\"sk-top-container\"><div class=\"sk-text-repr-fallback\"><pre>Pipeline(steps=[(&#x27;quadratic features&#x27;, PolynomialFeatures()),\n",
              "                (&#x27;linear regression&#x27;, LinearRegression())])</pre><b>In a Jupyter environment, please rerun this cell to show the HTML representation or trust the notebook. <br />On GitHub, the HTML representation is unable to render, please try loading this page with nbviewer.org.</b></div><div class=\"sk-container\" hidden><div class=\"sk-item sk-dashed-wrapped\"><div class=\"sk-label-container\"><div class=\"sk-label sk-toggleable\"><input class=\"sk-toggleable__control sk-hidden--visually\" id=\"sk-estimator-id-9\" type=\"checkbox\" ><label for=\"sk-estimator-id-9\" class=\"sk-toggleable__label sk-toggleable__label-arrow\">Pipeline</label><div class=\"sk-toggleable__content\"><pre>Pipeline(steps=[(&#x27;quadratic features&#x27;, PolynomialFeatures()),\n",
              "                (&#x27;linear regression&#x27;, LinearRegression())])</pre></div></div></div><div class=\"sk-serial\"><div class=\"sk-item\"><div class=\"sk-estimator sk-toggleable\"><input class=\"sk-toggleable__control sk-hidden--visually\" id=\"sk-estimator-id-10\" type=\"checkbox\" ><label for=\"sk-estimator-id-10\" class=\"sk-toggleable__label sk-toggleable__label-arrow\">PolynomialFeatures</label><div class=\"sk-toggleable__content\"><pre>PolynomialFeatures()</pre></div></div></div><div class=\"sk-item\"><div class=\"sk-estimator sk-toggleable\"><input class=\"sk-toggleable__control sk-hidden--visually\" id=\"sk-estimator-id-11\" type=\"checkbox\" ><label for=\"sk-estimator-id-11\" class=\"sk-toggleable__label sk-toggleable__label-arrow\">LinearRegression</label><div class=\"sk-toggleable__content\"><pre>LinearRegression()</pre></div></div></div></div></div></div></div>"
            ],
            "text/plain": [
              "Pipeline(steps=[('quadratic features', PolynomialFeatures()),\n",
              "                ('linear regression', LinearRegression())])"
            ]
          },
          "execution_count": 33,
          "metadata": {},
          "output_type": "execute_result"
        }
      ],
      "source": [
        "import sklearn.pipeline\n",
        "quad_features=sklearn.preprocessing.PolynomialFeatures(degree=2)\n",
        "reg=sklearn.linear_model.LinearRegression()\n",
        "### this what we want to chain:\n",
        "steps=[('quadratic features',quad_features),('linear regression',reg)] # always pairs (name, estimator)\n",
        "quad_pipe=sklearn.pipeline.Pipeline(steps)\n",
        "quad_pipe.fit(x_train,y_train)"
      ]
    },
    {
      "cell_type": "markdown",
      "metadata": {
        "id": "wdF7vzFiQdDD"
      },
      "source": [
        "The whole pipeline is now trained and can be used for prediction."
      ]
    },
    {
      "cell_type": "code",
      "execution_count": 34,
      "metadata": {
        "id": "n_wrC_W8QdDD"
      },
      "outputs": [
        {
          "data": {
            "text/plain": [
              "array([ 1.57051822, 18.39542361])"
            ]
          },
          "execution_count": 34,
          "metadata": {},
          "output_type": "execute_result"
        }
      ],
      "source": [
        "quad_pipe.predict([[1],[3]])"
      ]
    },
    {
      "cell_type": "markdown",
      "metadata": {
        "id": "wT8niTh2QdDD"
      },
      "source": [
        "### Task: Train degree 10 regressor###\n",
        "\n",
        "In the same way as above, define a regressor of degree 10 with a pipeline and train it on the training set. The <code>Pipeline</code> object that encapsulates the regressor should be called <code>ten_pipe</code>."
      ]
    },
    {
      "cell_type": "code",
      "execution_count": 35,
      "metadata": {
        "id": "coG-riaMQdDD"
      },
      "outputs": [
        {
          "data": {
            "text/plain": [
              "array([-4.87928674e+03, -1.75702538e+10])"
            ]
          },
          "execution_count": 35,
          "metadata": {},
          "output_type": "execute_result"
        }
      ],
      "source": [
        "### insert your code here ###\n",
        "### end of insert ###\n",
        "\n",
        "ten_features=sklearn.preprocessing.PolynomialFeatures(degree=10)\n",
        "reg_ten=sklearn.linear_model.LinearRegression()\n",
        "steps=[('10-adic features',ten_features),('linear regression',reg_ten)] # always pairs (name, estimator)\n",
        "ten_pipe=sklearn.pipeline.Pipeline(steps)\n",
        "ten_pipe.fit(x_train,y_train)\n",
        "ten_pipe.predict([[1],[3]]) # this should run without any errors"
      ]
    },
    {
      "cell_type": "markdown",
      "metadata": {
        "id": "4Okr-YQQSBIA"
      },
      "source": [
        "Let's plot the result. (This will not work if you messed up the regressors or if you didn't call the )"
      ]
    },
    {
      "cell_type": "code",
      "execution_count": 36,
      "metadata": {
        "id": "_DwiUtfMQdDD"
      },
      "outputs": [
        {
          "data": {
            "text/plain": [
              "<matplotlib.legend.Legend at 0x228dcd03b80>"
            ]
          },
          "execution_count": 36,
          "metadata": {},
          "output_type": "execute_result"
        },
        {
          "data": {
            "image/png": "[encoded data removed]",
            "text/plain": [
              "<Figure size 1000x500 with 1 Axes>"
            ]
          },
          "metadata": {},
          "output_type": "display_data"
        }
      ],
      "source": [
        "fig,ax=plt.subplots(figsize=(10,5))\n",
        "ax.set_ylim(0,2)\n",
        "xx=np.linspace(0,1,400)\n",
        "estimators=[(1,lin_reg),(2,quad_pipe),(10,ten_pipe)]\n",
        "estimator_degrees=[1,2,10]\n",
        "for degree,estimator in estimators:\n",
        "    ax.plot(xx,estimator.predict(xx.reshape(-1,1)),linewidth=3,label=\"degree {}\".format(degree))\n",
        "ax.plot(x_test.flat,y_test,\"rx\",label=\"test set\")\n",
        "ax.plot(x_train.flat,y_train,\"go\",label=\"training set\")\n",
        "ax.legend()"
      ]
    },
    {
      "cell_type": "markdown",
      "metadata": {
        "id": "deHiRESTQdDE"
      },
      "source": [
        "Next, let's compute errors. For regression, we often use the *mean square error*, or mse for friends:\n",
        "$$\n",
        "\\text{mse}(y,y')=\\frac{1}{n}\\sum_{i=1}^n(y_i-y'_i)^2\n",
        "$$\n",
        "\n",
        "The mean square error is implemented as function <code>mean_squared_error</code> in package <code>sklearn.metrics</code>. Let's try it out."
      ]
    },
    {
      "cell_type": "code",
      "execution_count": 37,
      "metadata": {
        "id": "uRYAmd6hQdDE"
      },
      "outputs": [
        {
          "data": {
            "text/plain": [
              "0.010000000000000009"
            ]
          },
          "execution_count": 37,
          "metadata": {},
          "output_type": "execute_result"
        }
      ],
      "source": [
        "import sklearn.metrics\n",
        "\n",
        "mse=sklearn.metrics.mean_squared_error\n",
        "y1=[1,1,1]\n",
        "y2=[1.1,0.9,1.1]\n",
        "mse(y1,y2)"
      ]
    },
    {
      "cell_type": "markdown",
      "metadata": {
        "id": "gSXA6Ut4TCjd"
      },
      "source": [
        "### Task: errors ###\n",
        "\n",
        "Compute the training error and test error for the three regressor we've trained above. Output the errors with <code>print</code>. To print out text and variable at the same time you can do the following <code>print(\"this {} is the value of the variable\".format(some_variable))</code>"
      ]
    },
    {
      "cell_type": "code",
      "execution_count": 48,
      "metadata": {
        "id": "PWgF3ha3QdDE"
      },
      "outputs": [
        {
          "name": "stdout",
          "output_type": "stream",
          "text": [
            "training error for linear regression: 0.025749152622868653\n",
            "training error for quadratic regression: 0.0017978010868627888\n",
            "training error for 10-adic regression: 4.394407192740702e-21\n",
            "test error for linear regression: 0.016783289005474343\n",
            "test error for quadratic regression: 0.002812534657437764\n",
            "test error for 10-adic regression: 677.3621161359528\n",
            "\n",
            "training error for 9-adic regression: 4.394407192740702e-21\n"
          ]
        }
      ],
      "source": [
        "### insert your code here ###\n",
        "#training errors:\n",
        "print(f\"training error for linear regression: {mse(y_train,lin_reg.predict(x_train))}\")\n",
        "print(f\"training error for quadratic regression: {mse(y_train,quad_pipe.predict(x_train))}\")\n",
        "print(f\"training error for 10-adic regression: {mse(y_train,ten_pipe.predict(x_train))}\")\n",
        "\n",
        "#test errors:\n",
        "print(f\"test error for linear regression: {mse(y_test,lin_reg.predict(x_test))}\")\n",
        "print(f\"test error for quadratic regression: {mse(y_test,quad_pipe.predict(x_test))}\")\n",
        "print(f\"test error for 10-adic regression: {mse(y_test,ten_pipe.predict(x_test))}\")\n",
        "\n",
        "# out of interest: degree 9 regression also fits data perfectly, because 10 points always define a degree 9 polynomial\n",
        "nine_features=sklearn.preprocessing.PolynomialFeatures(degree=9)\n",
        "reg_nine=sklearn.linear_model.LinearRegression()\n",
        "steps=[('10-adic features',nine_features),('linear regression',reg_nine)] # always pairs (name, estimator)\n",
        "nine_pipe=sklearn.pipeline.Pipeline(steps)\n",
        "nine_pipe.fit(x_train,y_train)\n",
        "print(f\"\\ntraining error for 9-adic regression: {mse(y_train,ten_pipe.predict(x_train))}\")\n"
      ]
    },
    {
      "cell_type": "markdown",
      "metadata": {
        "id": "aUa0zcuxQdDE"
      },
      "source": [
        "### Task: interpretation ###\n",
        "\n",
        "Interpret the results, give an explanation for the training and test errors (at most three sentences)."
      ]
    },
    {
      "cell_type": "markdown",
      "metadata": {
        "id": "kyH0QSieQdDE"
      },
      "source": [
        "Write your answer here:\n",
        "\n",
        "\n"
      ]
    },
    {
      "cell_type": "markdown",
      "metadata": {
        "id": "aiqrUkRmaTjs"
      },
      "source": [
        "### training errors\n",
        "Linear training error is the largest, because the data is randomly generated along a parabola. Degree 2 is improved, the remaining training error is a result of the added noise. Since 10 points can be fitted perfectly with a degree 10 polynomial, its training error is (basically) zero.\n",
        "### test errors\n",
        "The linear case is pretty much the same as above. Quadratic still works well, because the points are randomly generated along a parabola. The 10th degreee predictor is helplessly overfitted and has only the ten training points in common with the parabola resulting in the highest test error.\n"
      ]
    }
  ],
  "metadata": {
    "colab": {
      "provenance": []
    },
    "kernelspec": {
      "display_name": "Python 3 (ipykernel)",
      "language": "python",
      "name": "python3"
    },
    "language_info": {
      "codemirror_mode": {
        "name": "ipython",
        "version": 3
      },
      "file_extension": ".py",
      "mimetype": "text/x-python",
      "name": "python",
      "nbconvert_exporter": "python",
      "pygments_lexer": "ipython3",
      "version": "3.9.4"
    }
  },
  "nbformat": 4,
  "nbformat_minor": 0
}
